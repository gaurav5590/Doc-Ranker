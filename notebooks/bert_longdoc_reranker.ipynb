{
 "cells": [
  {
   "cell_type": "code",
   "execution_count": 1,
   "id": "2808963c",
   "metadata": {},
   "outputs": [
    {
     "name": "stderr",
     "output_type": "stream",
     "text": [
      "wandb: WARNING W&B installed but not logged in.  Run `wandb login` or set the WANDB_API_KEY env variable.\n"
     ]
    }
   ],
   "source": [
    "import torch\n",
    "from transformers import AutoTokenizer, AutoModelForSequenceClassification\n",
    "from transformers import AutoModelForQuestionAnswering, AutoTokenizer, pipeline\n",
    "\n",
    "# model_name = 'allenai/longformer-base-4096'\n",
    "model_name = 'amberoad/bert-multilingual-passage-reranking-msmarco'\n",
    "# model_name = 'NeuML/bert-small-cord19'\n",
    "# model_name = 'NeuML/bert-small-cord19qa'\n",
    "# model_name = 'deepset/roberta-base-squad2-covid'\n",
    "# model_name = 'castorini/monot5-large-msmarco'\n",
    "# model_name = 'nboost/pt-tinybert-msmarco'"
   ]
  },
  {
   "cell_type": "code",
   "execution_count": 2,
   "id": "93eddbe6",
   "metadata": {},
   "outputs": [],
   "source": [
    "model = AutoModelForSequenceClassification.from_pretrained(model_name)\n",
    "tokenizer = AutoTokenizer.from_pretrained(model_name)"
   ]
  },
  {
   "cell_type": "code",
   "execution_count": 6,
   "id": "b1c7a260",
   "metadata": {},
   "outputs": [],
   "source": [
    "query_text = 'What is the main cause of HIV-1 infection in children?'\n",
    "doc_text = [\"mother is the major cause of hiv infection in children\",\n",
    "            \"a bottle with a speaker sounds interesting\"]"
   ]
  },
  {
   "cell_type": "code",
   "execution_count": 169,
   "id": "0c8cbb8e",
   "metadata": {},
   "outputs": [],
   "source": [
    "with open('../data/long_doc_example.txt', 'r', encoding='utf-8') as f:\n",
    "    doc_text = f.read().replace(\"\\n\", \" \")"
   ]
  },
  {
   "cell_type": "code",
   "execution_count": 10,
   "id": "5aeb03ee",
   "metadata": {},
   "outputs": [
    {
     "data": {
      "text/plain": [
       "{'input_ids': tensor([[  101, 11523, 10127, 10103, 11659, 15126, 10108, 29575,   118,   122,\n",
       "         47835, 10104, 12171,   136,   102, 13907, 10127, 10103, 11562, 15126,\n",
       "         10108, 29575, 47835, 10104, 12171,   102],\n",
       "        [  101, 11523, 10127, 10103, 11659, 15126, 10108, 29575,   118,   122,\n",
       "         47835, 10104, 12171,   136,   102,   143, 69696, 10171,   143, 33732,\n",
       "         30798, 56305,   102,     0,     0,     0]]), 'token_type_ids': tensor([[0, 0, 0, 0, 0, 0, 0, 0, 0, 0, 0, 0, 0, 0, 0, 1, 1, 1, 1, 1, 1, 1, 1, 1,\n",
       "         1, 1],\n",
       "        [0, 0, 0, 0, 0, 0, 0, 0, 0, 0, 0, 0, 0, 0, 0, 1, 1, 1, 1, 1, 1, 1, 1, 0,\n",
       "         0, 0]]), 'attention_mask': tensor([[1, 1, 1, 1, 1, 1, 1, 1, 1, 1, 1, 1, 1, 1, 1, 1, 1, 1, 1, 1, 1, 1, 1, 1,\n",
       "         1, 1],\n",
       "        [1, 1, 1, 1, 1, 1, 1, 1, 1, 1, 1, 1, 1, 1, 1, 1, 1, 1, 1, 1, 1, 1, 1, 0,\n",
       "         0, 0]])}"
      ]
     },
     "execution_count": 10,
     "metadata": {},
     "output_type": "execute_result"
    }
   ],
   "source": [
    "encodings = tokenizer([query_text] * len(doc_text), doc_text, padding = True, \n",
    "                      return_tensors= 'pt', truncation=False, max_length=8)\n",
    "encodings"
   ]
  },
  {
   "cell_type": "code",
   "execution_count": 9,
   "id": "2ac1672a",
   "metadata": {},
   "outputs": [
    {
     "data": {
      "text/plain": [
       "{'input_ids': tensor([[  101, 11523, 10127, 10103,   102, 13907, 10127,   102],\n",
       "        [  101, 11523, 10127, 10103,   102,   143, 69696,   102]]), 'token_type_ids': tensor([[0, 0, 0, 0, 0, 1, 1, 1],\n",
       "        [0, 0, 0, 0, 0, 1, 1, 1]]), 'attention_mask': tensor([[1, 1, 1, 1, 1, 1, 1, 1],\n",
       "        [1, 1, 1, 1, 1, 1, 1, 1]])}"
      ]
     },
     "execution_count": 9,
     "metadata": {},
     "output_type": "execute_result"
    }
   ],
   "source": [
    "encodings = tokenizer([query_text] * len(doc_text), doc_text, padding = True, \n",
    "                      return_tensors= 'pt', truncation=True, max_length=8)\n",
    "encodings"
   ]
  },
  {
   "cell_type": "code",
   "execution_count": 172,
   "id": "8304957d",
   "metadata": {},
   "outputs": [
    {
     "ename": "IndexError",
     "evalue": "index out of range in self",
     "output_type": "error",
     "traceback": [
      "\u001b[1;31m---------------------------------------------------------------------------\u001b[0m",
      "\u001b[1;31mIndexError\u001b[0m                                Traceback (most recent call last)",
      "\u001b[1;32m<ipython-input-172-e23799a6cc83>\u001b[0m in \u001b[0;36m<module>\u001b[1;34m\u001b[0m\n\u001b[0;32m      1\u001b[0m \u001b[1;32mwith\u001b[0m \u001b[0mtorch\u001b[0m\u001b[1;33m.\u001b[0m\u001b[0mno_grad\u001b[0m\u001b[1;33m(\u001b[0m\u001b[1;33m)\u001b[0m\u001b[1;33m:\u001b[0m\u001b[1;33m\u001b[0m\u001b[1;33m\u001b[0m\u001b[0m\n\u001b[1;32m----> 2\u001b[1;33m     \u001b[0mlogits\u001b[0m \u001b[1;33m=\u001b[0m \u001b[0mmodel\u001b[0m\u001b[1;33m(\u001b[0m\u001b[1;33m**\u001b[0m\u001b[0mencodings\u001b[0m\u001b[1;33m)\u001b[0m\u001b[1;33m\u001b[0m\u001b[1;33m\u001b[0m\u001b[0m\n\u001b[0m\u001b[0;32m      3\u001b[0m \u001b[0mlogits\u001b[0m\u001b[1;33m\u001b[0m\u001b[1;33m\u001b[0m\u001b[0m\n",
      "\u001b[1;32m~\\anaconda3\\envs\\casl\\lib\\site-packages\\torch\\nn\\modules\\module.py\u001b[0m in \u001b[0;36m_call_impl\u001b[1;34m(self, *input, **kwargs)\u001b[0m\n\u001b[0;32m    725\u001b[0m             \u001b[0mresult\u001b[0m \u001b[1;33m=\u001b[0m \u001b[0mself\u001b[0m\u001b[1;33m.\u001b[0m\u001b[0m_slow_forward\u001b[0m\u001b[1;33m(\u001b[0m\u001b[1;33m*\u001b[0m\u001b[0minput\u001b[0m\u001b[1;33m,\u001b[0m \u001b[1;33m**\u001b[0m\u001b[0mkwargs\u001b[0m\u001b[1;33m)\u001b[0m\u001b[1;33m\u001b[0m\u001b[1;33m\u001b[0m\u001b[0m\n\u001b[0;32m    726\u001b[0m         \u001b[1;32melse\u001b[0m\u001b[1;33m:\u001b[0m\u001b[1;33m\u001b[0m\u001b[1;33m\u001b[0m\u001b[0m\n\u001b[1;32m--> 727\u001b[1;33m             \u001b[0mresult\u001b[0m \u001b[1;33m=\u001b[0m \u001b[0mself\u001b[0m\u001b[1;33m.\u001b[0m\u001b[0mforward\u001b[0m\u001b[1;33m(\u001b[0m\u001b[1;33m*\u001b[0m\u001b[0minput\u001b[0m\u001b[1;33m,\u001b[0m \u001b[1;33m**\u001b[0m\u001b[0mkwargs\u001b[0m\u001b[1;33m)\u001b[0m\u001b[1;33m\u001b[0m\u001b[1;33m\u001b[0m\u001b[0m\n\u001b[0m\u001b[0;32m    728\u001b[0m         for hook in itertools.chain(\n\u001b[0;32m    729\u001b[0m                 \u001b[0m_global_forward_hooks\u001b[0m\u001b[1;33m.\u001b[0m\u001b[0mvalues\u001b[0m\u001b[1;33m(\u001b[0m\u001b[1;33m)\u001b[0m\u001b[1;33m,\u001b[0m\u001b[1;33m\u001b[0m\u001b[1;33m\u001b[0m\u001b[0m\n",
      "\u001b[1;32m~\\anaconda3\\envs\\casl\\lib\\site-packages\\transformers\\modeling_longformer.py\u001b[0m in \u001b[0;36mforward\u001b[1;34m(self, input_ids, attention_mask, global_attention_mask, token_type_ids, position_ids, inputs_embeds, labels, output_attentions, output_hidden_states, return_dict)\u001b[0m\n\u001b[0;32m   1449\u001b[0m             \u001b[0moutput_attentions\u001b[0m\u001b[1;33m=\u001b[0m\u001b[0moutput_attentions\u001b[0m\u001b[1;33m,\u001b[0m\u001b[1;33m\u001b[0m\u001b[1;33m\u001b[0m\u001b[0m\n\u001b[0;32m   1450\u001b[0m             \u001b[0moutput_hidden_states\u001b[0m\u001b[1;33m=\u001b[0m\u001b[0moutput_hidden_states\u001b[0m\u001b[1;33m,\u001b[0m\u001b[1;33m\u001b[0m\u001b[1;33m\u001b[0m\u001b[0m\n\u001b[1;32m-> 1451\u001b[1;33m             \u001b[0mreturn_dict\u001b[0m\u001b[1;33m=\u001b[0m\u001b[0mreturn_dict\u001b[0m\u001b[1;33m,\u001b[0m\u001b[1;33m\u001b[0m\u001b[1;33m\u001b[0m\u001b[0m\n\u001b[0m\u001b[0;32m   1452\u001b[0m         )\n\u001b[0;32m   1453\u001b[0m         \u001b[0msequence_output\u001b[0m \u001b[1;33m=\u001b[0m \u001b[0moutputs\u001b[0m\u001b[1;33m[\u001b[0m\u001b[1;36m0\u001b[0m\u001b[1;33m]\u001b[0m\u001b[1;33m\u001b[0m\u001b[1;33m\u001b[0m\u001b[0m\n",
      "\u001b[1;32m~\\anaconda3\\envs\\casl\\lib\\site-packages\\torch\\nn\\modules\\module.py\u001b[0m in \u001b[0;36m_call_impl\u001b[1;34m(self, *input, **kwargs)\u001b[0m\n\u001b[0;32m    725\u001b[0m             \u001b[0mresult\u001b[0m \u001b[1;33m=\u001b[0m \u001b[0mself\u001b[0m\u001b[1;33m.\u001b[0m\u001b[0m_slow_forward\u001b[0m\u001b[1;33m(\u001b[0m\u001b[1;33m*\u001b[0m\u001b[0minput\u001b[0m\u001b[1;33m,\u001b[0m \u001b[1;33m**\u001b[0m\u001b[0mkwargs\u001b[0m\u001b[1;33m)\u001b[0m\u001b[1;33m\u001b[0m\u001b[1;33m\u001b[0m\u001b[0m\n\u001b[0;32m    726\u001b[0m         \u001b[1;32melse\u001b[0m\u001b[1;33m:\u001b[0m\u001b[1;33m\u001b[0m\u001b[1;33m\u001b[0m\u001b[0m\n\u001b[1;32m--> 727\u001b[1;33m             \u001b[0mresult\u001b[0m \u001b[1;33m=\u001b[0m \u001b[0mself\u001b[0m\u001b[1;33m.\u001b[0m\u001b[0mforward\u001b[0m\u001b[1;33m(\u001b[0m\u001b[1;33m*\u001b[0m\u001b[0minput\u001b[0m\u001b[1;33m,\u001b[0m \u001b[1;33m**\u001b[0m\u001b[0mkwargs\u001b[0m\u001b[1;33m)\u001b[0m\u001b[1;33m\u001b[0m\u001b[1;33m\u001b[0m\u001b[0m\n\u001b[0m\u001b[0;32m    728\u001b[0m         for hook in itertools.chain(\n\u001b[0;32m    729\u001b[0m                 \u001b[0m_global_forward_hooks\u001b[0m\u001b[1;33m.\u001b[0m\u001b[0mvalues\u001b[0m\u001b[1;33m(\u001b[0m\u001b[1;33m)\u001b[0m\u001b[1;33m,\u001b[0m\u001b[1;33m\u001b[0m\u001b[1;33m\u001b[0m\u001b[0m\n",
      "\u001b[1;32m~\\anaconda3\\envs\\casl\\lib\\site-packages\\transformers\\modeling_longformer.py\u001b[0m in \u001b[0;36mforward\u001b[1;34m(self, input_ids, attention_mask, global_attention_mask, token_type_ids, position_ids, inputs_embeds, output_attentions, output_hidden_states, return_dict)\u001b[0m\n\u001b[0;32m   1257\u001b[0m \u001b[1;33m\u001b[0m\u001b[0m\n\u001b[0;32m   1258\u001b[0m         embedding_output = self.embeddings(\n\u001b[1;32m-> 1259\u001b[1;33m             \u001b[0minput_ids\u001b[0m\u001b[1;33m=\u001b[0m\u001b[0minput_ids\u001b[0m\u001b[1;33m,\u001b[0m \u001b[0mposition_ids\u001b[0m\u001b[1;33m=\u001b[0m\u001b[0mposition_ids\u001b[0m\u001b[1;33m,\u001b[0m \u001b[0mtoken_type_ids\u001b[0m\u001b[1;33m=\u001b[0m\u001b[0mtoken_type_ids\u001b[0m\u001b[1;33m,\u001b[0m \u001b[0minputs_embeds\u001b[0m\u001b[1;33m=\u001b[0m\u001b[0minputs_embeds\u001b[0m\u001b[1;33m\u001b[0m\u001b[1;33m\u001b[0m\u001b[0m\n\u001b[0m\u001b[0;32m   1260\u001b[0m         )\n\u001b[0;32m   1261\u001b[0m \u001b[1;33m\u001b[0m\u001b[0m\n",
      "\u001b[1;32m~\\anaconda3\\envs\\casl\\lib\\site-packages\\torch\\nn\\modules\\module.py\u001b[0m in \u001b[0;36m_call_impl\u001b[1;34m(self, *input, **kwargs)\u001b[0m\n\u001b[0;32m    725\u001b[0m             \u001b[0mresult\u001b[0m \u001b[1;33m=\u001b[0m \u001b[0mself\u001b[0m\u001b[1;33m.\u001b[0m\u001b[0m_slow_forward\u001b[0m\u001b[1;33m(\u001b[0m\u001b[1;33m*\u001b[0m\u001b[0minput\u001b[0m\u001b[1;33m,\u001b[0m \u001b[1;33m**\u001b[0m\u001b[0mkwargs\u001b[0m\u001b[1;33m)\u001b[0m\u001b[1;33m\u001b[0m\u001b[1;33m\u001b[0m\u001b[0m\n\u001b[0;32m    726\u001b[0m         \u001b[1;32melse\u001b[0m\u001b[1;33m:\u001b[0m\u001b[1;33m\u001b[0m\u001b[1;33m\u001b[0m\u001b[0m\n\u001b[1;32m--> 727\u001b[1;33m             \u001b[0mresult\u001b[0m \u001b[1;33m=\u001b[0m \u001b[0mself\u001b[0m\u001b[1;33m.\u001b[0m\u001b[0mforward\u001b[0m\u001b[1;33m(\u001b[0m\u001b[1;33m*\u001b[0m\u001b[0minput\u001b[0m\u001b[1;33m,\u001b[0m \u001b[1;33m**\u001b[0m\u001b[0mkwargs\u001b[0m\u001b[1;33m)\u001b[0m\u001b[1;33m\u001b[0m\u001b[1;33m\u001b[0m\u001b[0m\n\u001b[0m\u001b[0;32m    728\u001b[0m         for hook in itertools.chain(\n\u001b[0;32m    729\u001b[0m                 \u001b[0m_global_forward_hooks\u001b[0m\u001b[1;33m.\u001b[0m\u001b[0mvalues\u001b[0m\u001b[1;33m(\u001b[0m\u001b[1;33m)\u001b[0m\u001b[1;33m,\u001b[0m\u001b[1;33m\u001b[0m\u001b[1;33m\u001b[0m\u001b[0m\n",
      "\u001b[1;32m~\\anaconda3\\envs\\casl\\lib\\site-packages\\transformers\\modeling_longformer.py\u001b[0m in \u001b[0;36mforward\u001b[1;34m(self, input_ids, token_type_ids, position_ids, inputs_embeds)\u001b[0m\n\u001b[0;32m    165\u001b[0m         \u001b[1;32mif\u001b[0m \u001b[0minputs_embeds\u001b[0m \u001b[1;32mis\u001b[0m \u001b[1;32mNone\u001b[0m\u001b[1;33m:\u001b[0m\u001b[1;33m\u001b[0m\u001b[1;33m\u001b[0m\u001b[0m\n\u001b[0;32m    166\u001b[0m             \u001b[0minputs_embeds\u001b[0m \u001b[1;33m=\u001b[0m \u001b[0mself\u001b[0m\u001b[1;33m.\u001b[0m\u001b[0mword_embeddings\u001b[0m\u001b[1;33m(\u001b[0m\u001b[0minput_ids\u001b[0m\u001b[1;33m)\u001b[0m\u001b[1;33m\u001b[0m\u001b[1;33m\u001b[0m\u001b[0m\n\u001b[1;32m--> 167\u001b[1;33m         \u001b[0mposition_embeddings\u001b[0m \u001b[1;33m=\u001b[0m \u001b[0mself\u001b[0m\u001b[1;33m.\u001b[0m\u001b[0mposition_embeddings\u001b[0m\u001b[1;33m(\u001b[0m\u001b[0mposition_ids\u001b[0m\u001b[1;33m)\u001b[0m\u001b[1;33m\u001b[0m\u001b[1;33m\u001b[0m\u001b[0m\n\u001b[0m\u001b[0;32m    168\u001b[0m         \u001b[0mtoken_type_embeddings\u001b[0m \u001b[1;33m=\u001b[0m \u001b[0mself\u001b[0m\u001b[1;33m.\u001b[0m\u001b[0mtoken_type_embeddings\u001b[0m\u001b[1;33m(\u001b[0m\u001b[0mtoken_type_ids\u001b[0m\u001b[1;33m)\u001b[0m\u001b[1;33m\u001b[0m\u001b[1;33m\u001b[0m\u001b[0m\n\u001b[0;32m    169\u001b[0m \u001b[1;33m\u001b[0m\u001b[0m\n",
      "\u001b[1;32m~\\anaconda3\\envs\\casl\\lib\\site-packages\\torch\\nn\\modules\\module.py\u001b[0m in \u001b[0;36m_call_impl\u001b[1;34m(self, *input, **kwargs)\u001b[0m\n\u001b[0;32m    725\u001b[0m             \u001b[0mresult\u001b[0m \u001b[1;33m=\u001b[0m \u001b[0mself\u001b[0m\u001b[1;33m.\u001b[0m\u001b[0m_slow_forward\u001b[0m\u001b[1;33m(\u001b[0m\u001b[1;33m*\u001b[0m\u001b[0minput\u001b[0m\u001b[1;33m,\u001b[0m \u001b[1;33m**\u001b[0m\u001b[0mkwargs\u001b[0m\u001b[1;33m)\u001b[0m\u001b[1;33m\u001b[0m\u001b[1;33m\u001b[0m\u001b[0m\n\u001b[0;32m    726\u001b[0m         \u001b[1;32melse\u001b[0m\u001b[1;33m:\u001b[0m\u001b[1;33m\u001b[0m\u001b[1;33m\u001b[0m\u001b[0m\n\u001b[1;32m--> 727\u001b[1;33m             \u001b[0mresult\u001b[0m \u001b[1;33m=\u001b[0m \u001b[0mself\u001b[0m\u001b[1;33m.\u001b[0m\u001b[0mforward\u001b[0m\u001b[1;33m(\u001b[0m\u001b[1;33m*\u001b[0m\u001b[0minput\u001b[0m\u001b[1;33m,\u001b[0m \u001b[1;33m**\u001b[0m\u001b[0mkwargs\u001b[0m\u001b[1;33m)\u001b[0m\u001b[1;33m\u001b[0m\u001b[1;33m\u001b[0m\u001b[0m\n\u001b[0m\u001b[0;32m    728\u001b[0m         for hook in itertools.chain(\n\u001b[0;32m    729\u001b[0m                 \u001b[0m_global_forward_hooks\u001b[0m\u001b[1;33m.\u001b[0m\u001b[0mvalues\u001b[0m\u001b[1;33m(\u001b[0m\u001b[1;33m)\u001b[0m\u001b[1;33m,\u001b[0m\u001b[1;33m\u001b[0m\u001b[1;33m\u001b[0m\u001b[0m\n",
      "\u001b[1;32m~\\anaconda3\\envs\\casl\\lib\\site-packages\\torch\\nn\\modules\\sparse.py\u001b[0m in \u001b[0;36mforward\u001b[1;34m(self, input)\u001b[0m\n\u001b[0;32m    124\u001b[0m         return F.embedding(\n\u001b[0;32m    125\u001b[0m             \u001b[0minput\u001b[0m\u001b[1;33m,\u001b[0m \u001b[0mself\u001b[0m\u001b[1;33m.\u001b[0m\u001b[0mweight\u001b[0m\u001b[1;33m,\u001b[0m \u001b[0mself\u001b[0m\u001b[1;33m.\u001b[0m\u001b[0mpadding_idx\u001b[0m\u001b[1;33m,\u001b[0m \u001b[0mself\u001b[0m\u001b[1;33m.\u001b[0m\u001b[0mmax_norm\u001b[0m\u001b[1;33m,\u001b[0m\u001b[1;33m\u001b[0m\u001b[1;33m\u001b[0m\u001b[0m\n\u001b[1;32m--> 126\u001b[1;33m             self.norm_type, self.scale_grad_by_freq, self.sparse)\n\u001b[0m\u001b[0;32m    127\u001b[0m \u001b[1;33m\u001b[0m\u001b[0m\n\u001b[0;32m    128\u001b[0m     \u001b[1;32mdef\u001b[0m \u001b[0mextra_repr\u001b[0m\u001b[1;33m(\u001b[0m\u001b[0mself\u001b[0m\u001b[1;33m)\u001b[0m \u001b[1;33m->\u001b[0m \u001b[0mstr\u001b[0m\u001b[1;33m:\u001b[0m\u001b[1;33m\u001b[0m\u001b[1;33m\u001b[0m\u001b[0m\n",
      "\u001b[1;32m~\\anaconda3\\envs\\casl\\lib\\site-packages\\torch\\nn\\functional.py\u001b[0m in \u001b[0;36membedding\u001b[1;34m(input, weight, padding_idx, max_norm, norm_type, scale_grad_by_freq, sparse)\u001b[0m\n\u001b[0;32m   1850\u001b[0m         \u001b[1;31m# remove once script supports set_grad_enabled\u001b[0m\u001b[1;33m\u001b[0m\u001b[1;33m\u001b[0m\u001b[1;33m\u001b[0m\u001b[0m\n\u001b[0;32m   1851\u001b[0m         \u001b[0m_no_grad_embedding_renorm_\u001b[0m\u001b[1;33m(\u001b[0m\u001b[0mweight\u001b[0m\u001b[1;33m,\u001b[0m \u001b[0minput\u001b[0m\u001b[1;33m,\u001b[0m \u001b[0mmax_norm\u001b[0m\u001b[1;33m,\u001b[0m \u001b[0mnorm_type\u001b[0m\u001b[1;33m)\u001b[0m\u001b[1;33m\u001b[0m\u001b[1;33m\u001b[0m\u001b[0m\n\u001b[1;32m-> 1852\u001b[1;33m     \u001b[1;32mreturn\u001b[0m \u001b[0mtorch\u001b[0m\u001b[1;33m.\u001b[0m\u001b[0membedding\u001b[0m\u001b[1;33m(\u001b[0m\u001b[0mweight\u001b[0m\u001b[1;33m,\u001b[0m \u001b[0minput\u001b[0m\u001b[1;33m,\u001b[0m \u001b[0mpadding_idx\u001b[0m\u001b[1;33m,\u001b[0m \u001b[0mscale_grad_by_freq\u001b[0m\u001b[1;33m,\u001b[0m \u001b[0msparse\u001b[0m\u001b[1;33m)\u001b[0m\u001b[1;33m\u001b[0m\u001b[1;33m\u001b[0m\u001b[0m\n\u001b[0m\u001b[0;32m   1853\u001b[0m \u001b[1;33m\u001b[0m\u001b[0m\n\u001b[0;32m   1854\u001b[0m \u001b[1;33m\u001b[0m\u001b[0m\n",
      "\u001b[1;31mIndexError\u001b[0m: index out of range in self"
     ]
    }
   ],
   "source": [
    "with torch.no_grad():\n",
    "    logits = model(**encodings)\n",
    "logits"
   ]
  },
  {
   "cell_type": "code",
   "execution_count": 158,
   "id": "6e69d074",
   "metadata": {},
   "outputs": [
    {
     "data": {
      "text/plain": [
       "tensor([[-1.1169,  1.0789]])"
      ]
     },
     "execution_count": 158,
     "metadata": {},
     "output_type": "execute_result"
    }
   ],
   "source": [
    "logits[0]"
   ]
  },
  {
   "cell_type": "code",
   "execution_count": 159,
   "id": "dab7d191",
   "metadata": {},
   "outputs": [
    {
     "data": {
      "text/plain": [
       "tensor([[0.1001, 0.8999]])"
      ]
     },
     "execution_count": 159,
     "metadata": {},
     "output_type": "execute_result"
    }
   ],
   "source": [
    "pt_predictions = torch.nn.functional.softmax(logits[0], dim=1)\n",
    "pt_predictions"
   ]
  },
  {
   "cell_type": "code",
   "execution_count": 160,
   "id": "6f737d95",
   "metadata": {},
   "outputs": [
    {
     "data": {
      "text/plain": [
       "0.8998656868934631"
      ]
     },
     "execution_count": 160,
     "metadata": {},
     "output_type": "execute_result"
    }
   ],
   "source": [
    "score = pt_predictions.tolist()[0][1]\n",
    "score"
   ]
  },
  {
   "cell_type": "code",
   "execution_count": 136,
   "id": "cb4bed43",
   "metadata": {},
   "outputs": [],
   "source": [
    "model_name = 'deepset/roberta-base-squad2-covid'"
   ]
  },
  {
   "cell_type": "code",
   "execution_count": 137,
   "id": "eb4ecee9",
   "metadata": {},
   "outputs": [
    {
     "data": {
      "text/plain": [
       "{'score': 0.6692191362380981,\n",
       " 'start': 36,\n",
       " 'end': 100,\n",
       " 'answer': 'symtoms. mother is the major cause of hiv infection in children.'}"
      ]
     },
     "execution_count": 137,
     "metadata": {},
     "output_type": "execute_result"
    }
   ],
   "source": [
    "# a) Get predictions\n",
    "nlp = pipeline('question-answering', model=model_name, tokenizer=model_name)\n",
    "QA_input = {\n",
    "    'question': 'What is the main cause of HIV-1 infection in children?',\n",
    "    'context': 'hic infection causes certain deadly symtoms. mother is the major cause of hiv infection in children. HIV in children effects their immunity system'\n",
    "}\n",
    "res = nlp(QA_input)\n",
    "res"
   ]
  },
  {
   "cell_type": "code",
   "execution_count": 129,
   "id": "ad78ee7e",
   "metadata": {},
   "outputs": [],
   "source": [
    "# b) Load model & tokenizer\n",
    "model = AutoModelForQuestionAnswering.from_pretrained(model_name)\n",
    "tokenizer = AutoTokenizer.from_pretrained(model_name)"
   ]
  },
  {
   "cell_type": "code",
   "execution_count": 130,
   "id": "48e29a6c",
   "metadata": {},
   "outputs": [],
   "source": [
    "query_text = 'What is the main cause of HIV-1 infection in children?'\n",
    "doc_text = \"mother is the major cause of hiv infection in children\""
   ]
  },
  {
   "cell_type": "code",
   "execution_count": 131,
   "id": "7ed8e3df",
   "metadata": {},
   "outputs": [],
   "source": [
    "encodings = tokenizer(query_text, doc_text, padding = True, return_tensors= 'pt')"
   ]
  },
  {
   "cell_type": "code",
   "execution_count": 132,
   "id": "b9b17a1a",
   "metadata": {},
   "outputs": [
    {
     "data": {
      "text/plain": [
       "(tensor([[-0.4789, -7.1148, -8.0142, -7.4715, -7.6818, -7.8251, -8.0099, -8.2133,\n",
       "          -8.4753, -8.5136, -8.7323, -8.3239, -8.4724, -7.7559, -4.9584, -4.9745,\n",
       "           2.1799, -5.9072, -3.4477, -4.1429, -4.3779, -7.2730, -7.5505, -8.1142,\n",
       "          -8.6080, -7.9145, -6.5174, -4.9595]]),\n",
       " tensor([[-0.2224, -8.4709, -8.1303, -8.3311, -8.6906, -8.2225, -8.4098, -8.6115,\n",
       "          -8.3496, -8.3936, -8.1020, -8.2621, -8.2025, -8.3767, -2.6010, -2.6147,\n",
       "           1.1946, -2.5244, -5.0945, -5.6482, -5.4059, -7.5357, -8.3395, -8.4600,\n",
       "          -7.9186, -8.1583, -7.0187, -2.6020]]))"
      ]
     },
     "execution_count": 132,
     "metadata": {},
     "output_type": "execute_result"
    }
   ],
   "source": [
    "with torch.no_grad():\n",
    "    logits = model(**encodings)\n",
    "logits"
   ]
  },
  {
   "cell_type": "code",
   "execution_count": 133,
   "id": "ceae0558",
   "metadata": {},
   "outputs": [
    {
     "data": {
      "text/plain": [
       "tensor([[-0.4789, -7.1148, -8.0142, -7.4715, -7.6818, -7.8251, -8.0099, -8.2133,\n",
       "         -8.4753, -8.5136, -8.7323, -8.3239, -8.4724, -7.7559, -4.9584, -4.9745,\n",
       "          2.1799, -5.9072, -3.4477, -4.1429, -4.3779, -7.2730, -7.5505, -8.1142,\n",
       "         -8.6080, -7.9145, -6.5174, -4.9595]])"
      ]
     },
     "execution_count": 133,
     "metadata": {},
     "output_type": "execute_result"
    }
   ],
   "source": [
    "logits[0]"
   ]
  },
  {
   "cell_type": "code",
   "execution_count": 134,
   "id": "57b8d51a",
   "metadata": {},
   "outputs": [
    {
     "data": {
      "text/plain": [
       "tensor([[6.4814e-02, 8.5062e-05, 3.4605e-05, 5.9544e-05, 4.8249e-05, 4.1806e-05,\n",
       "         3.4756e-05, 2.8357e-05, 2.1820e-05, 2.1002e-05, 1.6876e-05, 2.5387e-05,\n",
       "         2.1885e-05, 4.4803e-05, 7.3493e-04, 7.2318e-04, 9.2555e-01, 2.8458e-04,\n",
       "         3.3293e-03, 1.6612e-03, 1.3133e-03, 7.2618e-05, 5.5021e-05, 3.1313e-05,\n",
       "         1.9110e-05, 3.8233e-05, 1.5459e-04, 7.3411e-04]])"
      ]
     },
     "execution_count": 134,
     "metadata": {},
     "output_type": "execute_result"
    }
   ],
   "source": [
    "pt_predictions = torch.nn.functional.softmax(logits[0], dim=1)\n",
    "pt_predictions"
   ]
  },
  {
   "cell_type": "code",
   "execution_count": 135,
   "id": "d8635f4d",
   "metadata": {},
   "outputs": [
    {
     "data": {
      "text/plain": [
       "8.50619180710055e-05"
      ]
     },
     "execution_count": 135,
     "metadata": {},
     "output_type": "execute_result"
    }
   ],
   "source": [
    "score = pt_predictions.tolist()[0][1]\n",
    "score"
   ]
  },
  {
   "cell_type": "markdown",
   "id": "27e632f1",
   "metadata": {},
   "source": [
    "### Checking long doc for Covid QA model"
   ]
  },
  {
   "cell_type": "code",
   "execution_count": 142,
   "id": "f6ad45a3",
   "metadata": {},
   "outputs": [],
   "source": [
    "with open('../data/long_doc_example.txt', 'r', encoding='utf-8') as f:\n",
    "    doc_text = f.read().replace(\"\\n\", \" \")"
   ]
  },
  {
   "cell_type": "code",
   "execution_count": 143,
   "id": "a20e4533",
   "metadata": {},
   "outputs": [
    {
     "data": {
      "text/plain": [
       "\"Numerous human studies and animal models have implicated various infectious agents in the pathogenesis of vasculitis in susceptible hosts. However, the link between infection and vasculitis is very complex and only incompletely understood. In fact, different agents can induce the same type of vasculitis, as the case of leukocytoclastic vasculitis exemplifies. Conversely, the same agent can give rise to a panoply of host responses ranging from a clinically silent infection or localized organ involvement to devastating, widespread vasculitis.  Traditionally, vasculitides are classified as primary or secondary depending on whether an inciting agent, often but not invariably infective  in origin, can be identified. 1 However, the development of increasingly refined diagnostic tools has led to the reclassification of vasculitides previously considered idiopathic as being infection related. For instance, cryoglobulinemic vasculitis is now known to be related to hepatitis C virus (HCV) infection in the majority of cases. In addition, circumstantial evidence suggests that even vasculitides still classified as primary might be caused or triggered, at least in some cases, by environmental agents.Many questions, however, remain under debate. For example, what are the mechanisms that induce and maintain vasculitis? Which factors account for the different susceptibility to the development of vasculitis in different individuals? Which factors modulate disease severity and which specific vascular bed and organs are involved in the different vasculitides? What is the role of infective agents in primary vasculitis? Andlast but not least -what are the therapeutic implications of the recognition of an infective etiology of vasculitis? The main aims of this review were to elucidate the mechanisms by which infectious agents could induce vasculitis and to provide an update on human vasculitides of proven or suspected infectious origin. The implications for  treatment are also briefly discussed.Theoretically, pathogens can induce vasculitis by a number of different mechanisms. Direct endothelial invasion and damage is probably the main mechanism operating in rickettsial infection. 2 However, in the majority of cases, vasculitis is mainly the result of the immune response triggered by the offending agent. A humoral immune response with immune complex formation and deposition in and around vessel walls is thought to be primary mechanism in leukocytoclastic vasculitis. Molecular mimicry might lead to autoantibody production but also to activation of autoreactive lymphocytes. 3 A cellmediated immune response with or without granulomata formation is a recognized feature of some large-vessel vasculitides, although a link with infectious agents remains debated. Less common mechanisms postulated to underpin vasculitis are infectiontriggered immune dysregulation and anti-idiotypic response. 4 Experimental models have provided evidence that various infectious agents can induce vasculitis in susceptible animals. 5 These models have offered valuable insights into the pathogenic mechanisms operating in vasculitis, although none of those developed so far closely reproduces the stigmata of human vasculitis, with the possible exception of leukocytoclastic vasculitis.Chlamydia pneumoniae (CP), an obligatory intracellular Gram-negative bacterium, has been shown to induce alterations in the aortic wall. In particular, Fong et al 6 demonstrated that intratracheal infection with CP in New Zealand white rabbits  fed on a standard diet was able to induce atherosclerotic changes, which in one animal were associated with an adventitial lymphocytic infiltrate. 6 This latter finding suggests a role for CP in inducing adventitial periarteritis. In humans, CP infection has been linked to GCA (giant cell arteritis), which in a minority of cases is characterized histologically by adventitial periarteritis 7 in the absence of the more typical transmural infiltrate. However, the relationship between CP infection and GCA remains a matter of debate (see below).In addition to bacteria, a number of viruses have been demonstrated to be able to trigger vasculitis, such as the porcine reproductive and respiratory syndrome virus (PRRSV) as well as a host of herpesviruses including in particular the beta-herpesvirus cytomegalovirus (CMV). 5In swine, PRRSV has been shown to cause systemic small-vessel vasculitis with skin purpura and renal lesions similar to those observed in human leukocytoclastic vasculitis. 8 The pathogenesis of this vasculitis is most likely due to immune complexes, as immunofluorescence demonstrates the presence of immunoglobulins and complement in and around the affected vessel walls. 8 Macrophages, but not endothelial cells, have been found to host viral antigens. The early onset following the infection as well as the low morbidity and mortality observed are in keeping with the benign course of leukocytoclastic vasculitis in humans.Murine CMV infection is one of the most widely used models of vasculitis. [9] [10] [11] To gain a better understanding of the pathogenesis of CMV-induced disease, Persoons et al developed two models of CMV infection. 11 In the first model, local CMV infection resulted in the development of paw thickening and erythema followed by purpura. A batch of animals injected with high-dose CMV developed more severe lesions progressing to overt skin ulcerations. Clinical manifestations resolved within 4 weeks, whereas the animals treated with high-dose CMV were killed 10 days after the infection for ethical reasons. Initially, histology showed signs of endothelial activation associated with perivascular CMV-positive mononuclear cell infiltration. Later changes included colonization of endothelial cells by CMV, frank vasculitis, and thrombotic occlusion.In the second model, generalized CMV infection induced by intraperitoneal administration of the virus resulted in multiple organ pathology, including hemorrhages, inflammation, and gastrointestinal ulceration. CMV-encoded antigens were found, especially in mononuclear inflammatory cells in the organs and peripheral blood.These models provide important clues to the mechanisms underpinning CMV-induced vasculitis. First, both local and generalized infection resulted in vascular changes, with capillaries and small venules being mainly affected. Second, mononuclear cells appeared to become infected with the virus before endothelial cells, suggesting a role for mononuclear cells in transporting the virus and thus in spreading the infection. Third, a higher viral load was associated with more severe disease. This latter finding might be relevant to human disease, as CMV infection has mostly been described in immunodeficient patients who are unable to mount an effective response to, and thus eradicate CMV. 12 In addition to peripheral vessel vasculitis, CMV has also been shown to be able to cause aortitis. Presti et al 13 infected wild-type mice and mice lacking the interferongamma receptor (IFN-gR À/À ) intraperitoneally with murine CMV. Both strains developed aortic adventitial and, to a lesser extent, intima inflammation characterized by mononuclear cell infiltration. Arteritis was associated with CMV antigen in the aortic media. However, whereas in wild-type animals lesions resolved by day 84 postinfection,  IFN-gR À/À mice had significant arteritis as late as 154 days postinfection. The main points of this study are: first, that CMV can cause aortitis; and, second, that IFN-g is crucial in curbing vascular inflammation. The importance of IFN-g in regulating the response against CMV is further borne out by an in-vitro explant reactivation model by the same authors, which demonstrated that IFN-g could reversibly inhibit CMV reactivation from latency. As a further case in point, IFN-g has also been shown to control vascular inflammation in a model of gamma herpesvirus-68-induced largevessel vasculitis. 14 Another cytokine that has been shown to downregulate the development of gamma herpesvirus-68-induced vasculitis is interleukin-1 receptor antagonist. 15 Another herpesvirus that has been used to induce vasculitis in animals is herpes simplex virus (HSV). In a study involving 258 ICR strain mice, the earlobes of the mice were inoculated with a HSV type 1 solution. 16 Thirty mice inoculated with culture medium served as controls. Four weeks later, a second inoculation was performed. The mice inoculated with HSV manifested changes as early as 3 days after the first inoculation. Common signs were facial hair loss, erythema, and skin ulcerations on the scratched earlobe, and eye disease including uveitis. Some mice with relatively severe manifestations but also mice without overt clinical signs showed poor  general condition and died. After the second inoculation, arthritis, oral and genital ulcers, and keratitis were the main features. These manifestations were generally more severe than those appeared after the initial inoculation. Vasculitis was demonstrated in intestinal, oral, ear  lobe, and genital epithelial lesions. HSV DNA sequences were detected by polymerase chain reaction in lesional skin and the gastrointestinal tract of affected mice, but not in normal healthy skin.These findings, particularly those appeared after the second inoculation, are similar to those seen in human Adamantiades-Behçet's disease (ABD), which is typically characterized by oral and genital ulcers often associated with inflammatory eye disease and arthritis. 17 However, in this model only 29.8% of infected mice developed ABD-like manifestations defined as at least two signs, while around 33% died after the infection and 33% remained healthy or developed a single sign of disease. It can be speculated  that the development of vasculitis represented an immune reaction attempting to clear the virus, while mice unable to mount a strong immune response succumbed to viral dissemination. In fact, the development of ABD-like features mainly after the second infection could be in keeping with the hypothesis that a strong immune response elicited by antigenic rechallenge was the main determinant of vasculitis.The interest in the  infectious etiology of vasculitis has recently been rekindled by the worldwide spread of HIV because both HIV-and opportunistic-agent-induced  vasculitis have been reported in HIV-infected individuals. To dissect the mechanisms underlying HIV-associated vasculopathy, Tinkle et al developed a model of transgenic mice carrying a replication-defective HIV-1 provirus with selective deletion of the gag, pol, and env genes. 18 The majority of transgenic mice developed an extensive vasculopathy in vessels of different size. Vessel histology revealed intima hyperplasia,  most likely due to the migration of smooth muscle cells from the media, hypocellularity in the medial layer, and a predominantly adventitial infiltrate consisting primarily of T cells and occasionally of plasma cells and monocytes; endothelial cells were apparently unaffected. The intimal thickening generated significant luminal narrowing in some vessels, with the restricted blood flow leading to ischemia in the involved tissues. The expression of HIV nonstructural genes appeared to be confined to smooth muscle cells, in keeping with the abnormal proliferation of this cell type. Of interest, proliferation of smooth muscle cells occurred in some animals in the absence of detectable inflammatory cell infiltration, suggesting that the smooth muscle cell was the primary target of HIV, whereas the adventitial immune-mediated response probably represented a secondary event. These findings are intriguing. However, this model does not reliably reproduce the characteristics of human HIV-associated vasculopathy. In fact, endothelial cells have been demonstrated to be often affected in HIV-infected individuals 19 , whereas the broad spectrum of HIV vasculitis seems to involve a multiplicity of mechanisms, the mutual interactions of which are still to be fully unraveled. 20 In conclusion, animal models of vasculitis can prove valuable in promoting our knowledge of both etiology and pathogenesis of vasculitis, with potential important therapeutic implications. The variation in clinical pattern and/or severity of vasculitis observed in infected animals could provide an excellent opportunity to investigate which factors contribute to determine the disease course. At the same time, caution should be exerted in extrapolating experimental findings to human disease, as no model seems to reliably reproduce the features of human vasculitis, with the possible exception of leukocytoclastic vasculitis.Treponema pallidum is a known cause of ascending aortitis. Aortitis secondary to syphilis infection has a low prevalence and occurs in the tertiary stage of the disease. 21, 22 Serology for T. pallidum is positive and the histology of the aorta shows destruction and fibrosis of the media and a dense inflammatory infiltrate consisting of lymphocytes and plasma cells around the vasa vasorum of the adventitia. 22, 23 However, T. pallidum is only rarely detected in arterial wall lesions. 23 Syphilitic  aortitis should not be confused with aortitis secondary to GCA or Takayasu arteritis. 24 Other complications of syphilis are retinal 25 and cerebral 26 vasculitis.Tuberculous aortoarteritis is usually caused by a direct extension of the disease from adjacent tuberculous tissue and occasionally from blood-borne seedlings from an active distant focus. 27 Tuberculous aortitis generally develops at the distal aortic arch and the descending aorta, which are close to mediastinal lymph nodes, but involvement of the ascending aorta has also been reported as an exception to the rule. 28 True and false aneurysms are common manifestations. Drug and sometimes surgical 29 treatment is required. Retinal vasculitis  30 has been also linked in one study to Mycobacterium tuberculosis infection.Rickettsiae, which are obligate intracellular bacteria, can cause widespread vasculopathy by directly affecting the endothelium, leading to microvascular leakage and thrombosis. 2 Laboratory tests usually reveal thrombocytopenia and elevated prothrombin and partial thromboplastin times. 21 Hepatitis-B-associated polyarteritis nodosa Hepatitis B virus (HBV) is a recognized causative agent of polyarteritis nodosa (PAN), most likely via the formation of immune complexes. 23 However, with the decline of HBV infection, mainly due to the development of a specific vaccine and an aggressive vaccination campaign, the prevalence of HBV infection in individuals with PAN has been steadily decreasing over time. 23 In fact, recent estimates from France suggest that, currently, only about 5% of cases of PAN are HBV related. 31 HBV-PAN usually becomes manifest a mean of 4 months following exposure to HBV when hepatitis  is still undiagnosed. 23 Clinically, HBV-PAN is virtually indistinguishable from classic PAN 32 , but relapses are very rare (<10%). 23 Combination therapy with a brief course (approximately 1 week) of glucocorticoids associated with antiviral agents (lamivudine 100 mg/day or IFN-a 3,000,000 units subcutaneously three times a week with a tapering scheme) has been advocated on the basis of retrospective data showing a poorer outcome following therapy with glucocorticoids and immunosuppressants in HBV-PAN compared with idiopathic PAN. 23 Plasma exchange has also been reported as being useful in severe cases. 23 Hepatitis C-associated cryoglobulinemic vasculitis Hepatitis C virus (HCV) infection has been shown to induce type II and, less frequently, type III cryoglobulins. 33 However, cryoglobulinemic vasculitis, usually of the small-vessel leukocytoclastic type, develops only in about 5% of patients with detectable cryoglobulins. 34 Common clinical manifestations include purpura, glomerulonephritis, peripheral neuropathy, arthritis, and sicca syndrome. 34 Laboratory tests usually reveal a low C4 and -sometimes -a positive rheumatoid factor, but various low-titer autoantibodies have also been reported. 35 Treatment of HCV vasculitis should be tailored to the severity of the disease. 36 In patients with mild disease (without severe organ involvement or life-threatening disease) antiviral therapy (IFNa 3,000,000 units/three times a week with or without low-dose glucocorticoids for 6 months, followed by maintenance therapy with IFN-a 3,000,000 units/3-weekly with or without ribavirin for a further 6-12 months) can suffice. 36 However, relapses are frequent, particularly when HCV is not eradicated. In patients with major organ involvement, a 6-month course of induction therapy with pulse cyclophosphamide and glucocorticoids is required, followed by maintenance antiviral therapy for 6-12 months. 36 Patients with life-threatening disease should be treated aggressively with oral cyclophosphamide, glucocorticoid pulses and plasmapheresis for 6 months, while after remission induction antiviral therapy can be commenced. 36 In patients with refractory vasculitis and glomerulonephritis, rituximab could be a valuable therapeutic option. 37 With the advent of the AIDS epidemic, various types of vasculopathies have increasingly been described in HIV-infected patients. Opportunistic infections, mainly due to CMV or M. tuberculosis, have been reported, mainly in immunodeficient patients. 38 As the route of transmission of HIV is also shared by HBV and HCV, it is not surprising that such viruses have been implicated as causative agents in some cases, even in immunocompetent hosts. 20,38 Drug-induced vasculitis is also not infrequent. 20 In many cases, however, HIV seems to directly induce vasculopathies of different types. A retrospective review of 148 symptomatic HIV-infected patients referred for muscle, nerve, or skin biopsy documented the presence of vasculitis in 34 (23%) patients. 20 Various vasculitic types were recognized, including necrotizing arteritis (3 patients), non-necrotizing arteritis (1 patient), neutrophilic vasculitis (7 patients), mononuclear vasculitis (17 patients), and other small-vessel inflammatory changes (6 patients). According to the American College of Rheumatology criteria, 11 patients could be classified as having a distinct category of vasculitis, including PAN (4 patients), Henoch-Schö nlein purpura (1 patient), and drug-induced hypersensitivity vasculitis (6 patients), whereas 23 were classified as having unspecified vasculitis. These vasculitides were seen at different stages of HIV infection. One patient had  HBV surface antigenemia, two had cryoglobulinemia, and two were co-infected by human T lymphotropic virus type I (HTLV-1). CMV inclusions and  antigens were detected in endothelial cells in one patient. HIV antigens and genome were detected in perivascular cells of two of the three patients with necrotizing arteritis. Immune deposits were found in small-vessel walls in five skin biopsy samples showing small vessel vasculitis and in the muscle of the three patients with necrotizing arteritis. These data indicate that a wide range of inflammatory vascular diseases  can occur in HIV-infected individuals. The high (23%) frequency of vasculitis in this cohort of HIV patients is probably an overestimation related to a referral bias, as it is likely that only patients with symptoms and/ or signs suggestive of vasculitis underwent a biopsy. A more realistic estimate of the true prevalence of vasculitis in HIV-infected individuals is in the range of 1% or less. 23, 39 Polyarteritis nodosa has been reported as occurring in the setting of HIV infection in the absence of hepatitis B surface antigen (HbsAg) positivity. 40 The pathogenesis of HIV-PAN is probably mediated by immune complexes, and a study from our group failed to detect, by in-situ hybridization, proviral HIV-1 DNA in a skin sample. 41 Compared with classic PAN, its HIV-associated variant appears to be less often chronic and more frequently limited to the peripheral nerves and muscles, which might account for the less severe course observed in HIV patients. Along the same lines, HIV-PAN  has been reported to respond well to moderate (approximately 0.5 mg/kg/day) doses of prednisone. 40 More recently, Chetty et al described 16 HIV patients with large-vessel vasculitis characterized by aneurysms, occlusive disease, or both. 42 Clinical manifestations included rupture of aneurysm, transient ischemic attacks, hypertension, ischemia to the lower extremity, or a mass at the site of the aneurysm. Arteries affected included the common carotid, abdominal aorta, common iliac, femoral, and popliteal. No patient had any obvious infective vascular lesion, although one patient had a positive TPHA (Treponema Pallidum Hemagglutination Test) test for syphilis, whereas culture of blood and thrombus contents in another patient was positive for Staphylococcus aureus. Histology showed leukocytoclastic vasculitis of the vasa vasora and periadventitial vessels, proliferation of slit-like vascular channels, chronic inflammation, and fibrosis. There was associated medial fibrosis with loss and fragmentation of muscle and elastic tissue. Intimal changes consisted of duplication and fragmentation of the internal elastic lamina with calcification. Based on these findings, the authors argued for an infective or immune-complex origin, resulting in leukocytoclastic vasculitis of vasa vasora and periadventitial vessels. An intriguing finding reported in this study is the presence of slitlike vascular channels. Such lesions have not been observed in HIV-negative individuals and their appearance have in fact coincided with the HIV epidemic. Whether these lesions represent an early stage of Kaposi's sarcoma is not known. Angiogenic factors have been postulated to play a role, although its precise pathogenesis remains unclear.Other vasculopathies reported in HIV-positive patients include vasculitis characterized by acral ischemic changes 43 , angiocentric immunoproliferative disorders 44 , necrotizing granulomatous vasculitis 45 , 'primary' pulmonary hypertension, retinal  vessel alterations with 'cotton wool' infarctions and hemorrhages 19 , and cerebral vasculitis. 46 However, cerebral vasculitis accounts for only a minority (15%) of cerebral ischemic lesions. 46 Given the wide spectrum of vascular alterations associated with HIV infection, it is very likely that different pathogenic mechanisms might be involved. More specifically, immune complexes have been mapped to leukocytoclastic vasculitis 42 and immune dysregulation to angiocentric immunoproliferative disorders 44 , but a direct effect of HIV on vascular components 19, 40 and immune system activation with production of inflammatory cytokines 45 might also be implicated. However, the introduction of highly active antiretroviral treatment, which has been associated with an increased risk of developing immune-mediated disorders via activation of the immune system, does not appear to have impacted on the frequency of HIV-vasculitis. 47, 48 Immunological serology is of doubtful value in the differential diagnosis of vasculitis occurring in HIV individuals because HIV infection has been shown to stimulate the synthesis of a whole array of autoantibodies, including antinucler, anticardiolipin 49 , and antineutrophil cytoplasmic antibodies (ANCA). 50 In particular, ANCA positivity has been shown not to correlate with the development of ANCA-associated vasculitis in patients with HIV. 50 A high index of suspicion for vasculitis should be maintained in patients with HIV because many clinical manifestations, such as constitutional symptoms and cutaneous lesions, might be signs of vasculitis but could also be due to HIV or other infection in the absence of vasculitis or to antiviral therapy.There  are limited data on the treatment of HIV-vasculitis. Glucocorticoids are considered the drug of choice 48 but uncontrolled observations suggest a role for immunosuppressants 48 and plasmapheresis 51 in resistant cases.Circumstantial evidence suggests a role for infectious agents in the pathogenesis of GCA, including cyclic fluctuations in incidence rates over time 52 and an activated status of the antigen-presenting dendritic cells in the adventitial layer of temporal arteries. 53 However, studies that have searched for infectious triggers have produced discordant results. In particular, CP finding in giant cell arteries have been reported in some 54,55 , but not other 56, 57 studies. Similarly, varicella zoster virus has been implicated as trigger of GCA in one study 58 but this result has not been confirmed by other larger studies. 57, 59 Discordant findings have also been reported for parvovirus B19. [60] [61] [62] Various infections have been described as preceding the onset  of Takayasu arteritis, although the link between infection and vasculitis has never been conclusively proven. 4 High immunoglobulin levels against an extract of M. tuberculosis and its 65 kDa heatshock protein has been demonstrated in most Takayasu patients but not in unaffected controls, suggesting that M. tuberculosis might be involved in the pathogenesis of Takayasu arteritis, at least in some cases. 63 Medium-and small-vessel vasculitis Nasal carriage of S. aureus has been mapped to an increased risk of flares and relapses of Wegener's granulomatosis 64 ; prolonged trimethoprim-sulfamethoxazole therapy has been reported to reduce the relapse risk by 60%. 65 Various infections have been described in association with Kawasaki disease. 4 To date, the strongest association reported is with the New Haven coronavirus. In a case-control study, specimens of respiratory secretions from 72.7% of 11 children with Kawasaki disease but from only 4.5% of 22 control subjects (children without Kawasaki disease matched by age and the time the specimens were obtained) tested positive for New Haven coronavirus by reverse-transcriptase polymerase chain reaction. 66 A number of pathogens have been proposed as etiologic agents of Cogan's syndrome, mainly on the basis of serologic findings, but so far these associations remain speculative. 4 A wide array of infectious agents has been reported in association with vasculitis of the CNS, including T. pallidum 26 , HCV 67 , HIV 46 , parvovirus B19 68 , M. pneumoniae 69 , and Borrelia burgdorferi. 70 Bacteria  and fungi have also been implicated in some cases. 71 A bacterial and viral etiology was postulated for ABD by Adamantiades and Behçet. 72 ABD signs have been reported between one and two weeks after verified contact with a variety of bacteria. 73 In particular, streptococcal strains, especially Streptococcus sanguis, and HSV have been postulated to participate in the etiology of ABD. More specifically, oral bacterial streptococcal antigens and HSV I DNA, as well as antistreptococcal and anti-HSV antibodies, have been detected more frequently in ABD patients than in controls. 72, 74 Cross-reactivity between microbial HSP65 and human HSP60 has been hypothesized to trigger the disease in predisposed hosts by stimulating T cells and by inducing the synthesis of proinflammatory cytokines. 75 Conversely, oral administration of the HSP60 336-351  peptide has been shown to ameliorate ABD uveitis in humans. 76 Multiple infectious and noninfectious agents have been linked to leukocytoclastic vasculitis and Henoch-Schö nlein purpura, two conditions that share a number of features, including skin purpura and sometimes the history  of a preceding infection. 4, 77 In both cases, immune complexes are probably the pathogenic mechanism leading to vasculitic lesions. An infectious origin of leukocytoclastic vasculitis has been estimated to account for one-third of all cases of leukocytoclastic vasculitis. 77Many infectious agents have occasionally been linked to different types of vasculitisoften unclassifiable -in humans. 78 These reported associations are often speculative and some might be explained by chance alone. Epstein-Barr virus (EBV) and CMV are among the most frequently reported infective triggers of vasculitis. More specifically, EBV has been implicated in the pathogenesis of leukocytoclastic 79 and granulomatous 80 vasculitis, as well as of vasculitis characterized by widespread large-vessel 81 and coronary artery 82 aneurysms. In a few patients with Duncan disease, a condition characterized by a selective EBV-specific immune defect, EBV has been mapped to lymphocytic vasculitis, corioretinitis, and lymphomatoid granulomatosis. 83 CMV is a known opportunistic agent that can be reactivated in immunocompromised hosts, resulting in systemic  vasculitis. 38, 84 However, isolated reports suggest that CMV vasculitis might also occur in immunocompetent subjects. 85 CMV vasculitis can be disseminated or involve one or more organs, with the skin, the gastrointestinal tract, and CNS being most frequently affected. 12 Pathologic findings include intraendothelial viral inclusions, inflammatory infiltrate of the vessel wall, and luminal changes. 12 Another virus, HTLV-1, has been found to cause mainly retinal vasculitis 86 in addition to the well-known complication of T-cell leukemia.A list of pathogens implicated in classified and unclassified human vasculitis is shown in Box 1.Data from human studies and animal models consistently indicate that a number of infectious agents can trigger vasculitis in susceptible hosts. Different agents can induce the same type of vasculitis, as the case of leukocytoclastic vasculitis exemplifies. Conversely, the same agent can give rise to a variety of host responses ranging from a clinically silent infection or localized organ involvement to devastating, widespread vasculitis. Some exposed subjects do not develop clinically detectable vasculitis or other organ involvement at all, probably either because they can mount (and then switch off) an efficient immune response,  or because of congenital resistance to a given pathogen. For instance, individuals lacking the chemokine receptor-5, a port of entry required  by most HIV strains, are resistant to HIV infection even after repeated exposure to the virus. 87 Many infectious agents display varying degrees of tropism for different organs and vascular beds. Such tropism might be due to the expression by the offending agent of surface molecules  that bind to specific host's ligands in different tissues and vascular segments. 88 However, persistence of a micro-organism at certain sites  might also result from the inability of the immune system to clear the pathogen at these sites.Variability in disease severity is a recognized feature of experimental as well as of human vasculitis. What modulates disease severity is still poorly understood, but antigen load 11 (and  probably other antigen properties) 89 and the efficiency of the immune response might both play a role. IFN-g has been shown to be a key mediator of antigen-driven immune response in some experimental models 13,14 , but other mediators 15 are also implicated. Another related issue is why vasculitis runs a self-limiting course in some cases but becomes chronic in others. Theoretically, persistent vasculitis could be due to  the host's inability to eradicate the infection or to switch off the immune response triggered by the infective agent after this has been cleared. Reports of resolution of virus-related vasculitis after virus eradication has been achieved would appear to support the first hypothesis. 36 However, limited data mainly from animal and in-vitro studies suggest that micro-organisms might also induce vasculitis via a 'hit and run' mechanism. 90 Furthermore, after a viral infection the immune response has been shown to interact with 91 , and prevent the infectious agent from becoming reactivated 92 without fully eradicating it or provoking vasculitis or other organ damage. IFN-g appears to be crucially involved in blocking viral reactivation. 92 The role of infectious agents in the pathogenesis of the primary vasculitides is still under debate. For instance, numerous agents have been implicated in the pathogenesis of GCA, but findings of specific infection have not been consistently replicated. Differences in detection methods, 'hit and run' disease induction followed by clearance of the offending agent, and different etiologic agents leading to the development of the same vasculitis in different individuals might explain, at least partially, the discrepancies reported in the literature.What are the therapeutic implications of the recognition of an infective etiology of vasculitis? Theoretically, treatment aiming at eradicating the causing pathogen would be the logical choice. However, severe vasculitis might additionally require immunosuppressive therapy to attain rapid disease control.Finally, it is important to remember that other factors, such as the patient's age and genetic make-up, and the anatomical characteristics of the vessels involved might all contribute to regulate disease expression. 93 The challenge is thus not only to establish the etiology of infection-related vasculitis but also to determine how disease expression is modulated. In turn, a better knowledge of the interplay between infective agents and host factors could result in more effective therapeutic approaches.consider infective causes in patients with vasculitis positive autoantibodies including antineutrophil cytoplasmic antibodies have been reported in vasculitis of proven infectious origin vasculitis of infectious origin might require immunosuppressive therapy in addition to eradicating treatment (if  available) if the clinical picture is dominated by severe manifestationsto establish the role of cytokines and other factors that might account for the different susceptibility to infective agents in inducing vasculitis to investigate the mechanisms contributing to the persistence and severity of vasculitis to investigate the mechanisms underpinning the tropism of infective agents for specific organs\""
      ]
     },
     "execution_count": 143,
     "metadata": {},
     "output_type": "execute_result"
    }
   ],
   "source": [
    "doc_text"
   ]
  },
  {
   "cell_type": "code",
   "execution_count": 144,
   "id": "efafc7bc",
   "metadata": {},
   "outputs": [],
   "source": [
    "model_name = 'deepset/roberta-base-squad2-covid'"
   ]
  },
  {
   "cell_type": "code",
   "execution_count": 145,
   "id": "115ee1fa",
   "metadata": {},
   "outputs": [
    {
     "data": {
      "text/plain": [
       "{'score': 0.3970397412776947,\n",
       " 'start': 29147,\n",
       " 'end': 29165,\n",
       " 'answer': 'retinal vasculitis'}"
      ]
     },
     "execution_count": 145,
     "metadata": {},
     "output_type": "execute_result"
    }
   ],
   "source": [
    "# a) Get predictions\n",
    "nlp = pipeline('question-answering', model=model_name, tokenizer=model_name)\n",
    "QA_input = {\n",
    "    'question': 'What is the main cause of HIV-1 infection in children?',\n",
    "    'context': doc_text\n",
    "}\n",
    "res = nlp(QA_input)\n",
    "res"
   ]
  },
  {
   "cell_type": "markdown",
   "id": "cb62f431",
   "metadata": {},
   "source": [
    "### Checking long doc for Neural IR"
   ]
  },
  {
   "cell_type": "code",
   "execution_count": 146,
   "id": "29adba3c",
   "metadata": {},
   "outputs": [],
   "source": [
    "from transformers import AutoTokenizer,AutoModel, PreTrainedModel,PretrainedConfig\n",
    "from typing import Dict\n",
    "import torch\n",
    "\n",
    "class ColBERTConfig(PretrainedConfig):\n",
    "    model_type = \"ColBERT\"\n",
    "    bert_model: str\n",
    "    compression_dim: int = 768\n",
    "    dropout: float = 0.0\n",
    "    return_vecs: bool = False\n",
    "    trainable: bool = True\n",
    "\n",
    "class ColBERT(PreTrainedModel):\n",
    "    \"\"\"\n",
    "    ColBERT model from: https://arxiv.org/pdf/2004.12832.pdf\n",
    "    We use a dot-product instead of cosine per term (slightly better)\n",
    "    \"\"\"\n",
    "    config_class = ColBERTConfig\n",
    "    base_model_prefix = \"bert_model\"\n",
    "\n",
    "    def __init__(self,\n",
    "                 cfg) -> None:\n",
    "        super().__init__(cfg)\n",
    "        \n",
    "        self.bert_model = AutoModel.from_pretrained(cfg.bert_model)\n",
    "\n",
    "        for p in self.bert_model.parameters():\n",
    "            p.requires_grad = cfg.trainable\n",
    "\n",
    "        self.compressor = torch.nn.Linear(self.bert_model.config.hidden_size, cfg.compression_dim)\n",
    "\n",
    "    def forward(self,\n",
    "                query: Dict[str, torch.LongTensor],\n",
    "                document: Dict[str, torch.LongTensor]):\n",
    "\n",
    "        query_vecs = self.forward_representation(query)\n",
    "        document_vecs = self.forward_representation(document)\n",
    "\n",
    "        score = self.forward_aggregation(query_vecs,document_vecs,query[\"attention_mask\"],document[\"attention_mask\"])\n",
    "        return score\n",
    "\n",
    "    def forward_representation(self,\n",
    "                               tokens,\n",
    "                               sequence_type=None) -> torch.Tensor:\n",
    "        \n",
    "        vecs = self.bert_model(**tokens)[0] # assuming a distilbert model here\n",
    "        vecs = self.compressor(vecs)\n",
    "\n",
    "        # if encoding only, zero-out the mask values so we can compress storage\n",
    "        if sequence_type == \"doc_encode\" or sequence_type == \"query_encode\": \n",
    "            vecs = vecs * tokens[\"tokens\"][\"mask\"].unsqueeze(-1)\n",
    "\n",
    "        return vecs\n",
    "\n",
    "    def forward_aggregation(self,query_vecs, document_vecs,query_mask,document_mask):\n",
    "        \n",
    "        # create initial term-x-term scores (dot-product)\n",
    "        score = torch.bmm(query_vecs, document_vecs.transpose(2,1))\n",
    "\n",
    "        # mask out padding on the doc dimension (mask by -1000, because max should not select those, setting it to 0 might select them)\n",
    "        exp_mask = document_mask.bool().unsqueeze(1).expand(-1,score.shape[1],-1)\n",
    "        score[~exp_mask] = - 10000\n",
    "\n",
    "        # max pooling over document dimension\n",
    "        score = score.max(-1).values\n",
    "\n",
    "        # mask out paddding query values\n",
    "        score[~(query_mask.bool())] = 0\n",
    "\n",
    "        # sum over query values\n",
    "        score = score.sum(-1)\n",
    "\n",
    "        return score"
   ]
  },
  {
   "cell_type": "code",
   "execution_count": 151,
   "id": "2ae22ee0",
   "metadata": {},
   "outputs": [
    {
     "ename": "OSError",
     "evalue": "Can't load config for 'sebastian-hofstaetter/distilbert-dot-margin_mse-T2-msmarco'. Make sure that:\n\n- 'sebastian-hofstaetter/distilbert-dot-margin_mse-T2-msmarco' is a correct model identifier listed on 'https://huggingface.co/models'\n\n- or 'sebastian-hofstaetter/distilbert-dot-margin_mse-T2-msmarco' is the correct path to a directory containing a config.json file\n\n",
     "output_type": "error",
     "traceback": [
      "\u001b[1;31m---------------------------------------------------------------------------\u001b[0m",
      "\u001b[1;31mOSError\u001b[0m                                   Traceback (most recent call last)",
      "\u001b[1;32m~\\anaconda3\\envs\\casl\\lib\\site-packages\\transformers\\configuration_utils.py\u001b[0m in \u001b[0;36mget_config_dict\u001b[1;34m(cls, pretrained_model_name_or_path, **kwargs)\u001b[0m\n\u001b[0;32m    372\u001b[0m             \u001b[1;32mif\u001b[0m \u001b[0mresolved_config_file\u001b[0m \u001b[1;32mis\u001b[0m \u001b[1;32mNone\u001b[0m\u001b[1;33m:\u001b[0m\u001b[1;33m\u001b[0m\u001b[1;33m\u001b[0m\u001b[0m\n\u001b[1;32m--> 373\u001b[1;33m                 \u001b[1;32mraise\u001b[0m \u001b[0mEnvironmentError\u001b[0m\u001b[1;33m\u001b[0m\u001b[1;33m\u001b[0m\u001b[0m\n\u001b[0m\u001b[0;32m    374\u001b[0m             \u001b[0mconfig_dict\u001b[0m \u001b[1;33m=\u001b[0m \u001b[0mcls\u001b[0m\u001b[1;33m.\u001b[0m\u001b[0m_dict_from_json_file\u001b[0m\u001b[1;33m(\u001b[0m\u001b[0mresolved_config_file\u001b[0m\u001b[1;33m)\u001b[0m\u001b[1;33m\u001b[0m\u001b[1;33m\u001b[0m\u001b[0m\n",
      "\u001b[1;31mOSError\u001b[0m: ",
      "\nDuring handling of the above exception, another exception occurred:\n",
      "\u001b[1;31mOSError\u001b[0m                                   Traceback (most recent call last)",
      "\u001b[1;32m<ipython-input-151-ce1be4da2b27>\u001b[0m in \u001b[0;36m<module>\u001b[1;34m\u001b[0m\n\u001b[0;32m      5\u001b[0m \u001b[0mpre_trained_model_name\u001b[0m \u001b[1;33m=\u001b[0m \u001b[1;34m\"sebastian-hofstaetter/distilbert-dot-margin_mse-T2-msmarco\"\u001b[0m\u001b[1;33m\u001b[0m\u001b[1;33m\u001b[0m\u001b[0m\n\u001b[0;32m      6\u001b[0m \u001b[1;33m\u001b[0m\u001b[0m\n\u001b[1;32m----> 7\u001b[1;33m \u001b[0mtokenizer\u001b[0m \u001b[1;33m=\u001b[0m \u001b[0mAutoTokenizer\u001b[0m\u001b[1;33m.\u001b[0m\u001b[0mfrom_pretrained\u001b[0m\u001b[1;33m(\u001b[0m\u001b[0mpre_trained_model_name\u001b[0m\u001b[1;33m)\u001b[0m\u001b[1;33m\u001b[0m\u001b[1;33m\u001b[0m\u001b[0m\n\u001b[0m\u001b[0;32m      8\u001b[0m \u001b[0mbert_model\u001b[0m \u001b[1;33m=\u001b[0m \u001b[0mAutoModel\u001b[0m\u001b[1;33m.\u001b[0m\u001b[0mfrom_pretrained\u001b[0m\u001b[1;33m(\u001b[0m\u001b[0mpre_trained_model_name\u001b[0m\u001b[1;33m)\u001b[0m\u001b[1;33m\u001b[0m\u001b[1;33m\u001b[0m\u001b[0m\n",
      "\u001b[1;32m~\\anaconda3\\envs\\casl\\lib\\site-packages\\transformers\\tokenization_auto.py\u001b[0m in \u001b[0;36mfrom_pretrained\u001b[1;34m(cls, pretrained_model_name_or_path, *inputs, **kwargs)\u001b[0m\n\u001b[0;32m    296\u001b[0m         \u001b[0mconfig\u001b[0m \u001b[1;33m=\u001b[0m \u001b[0mkwargs\u001b[0m\u001b[1;33m.\u001b[0m\u001b[0mpop\u001b[0m\u001b[1;33m(\u001b[0m\u001b[1;34m\"config\"\u001b[0m\u001b[1;33m,\u001b[0m \u001b[1;32mNone\u001b[0m\u001b[1;33m)\u001b[0m\u001b[1;33m\u001b[0m\u001b[1;33m\u001b[0m\u001b[0m\n\u001b[0;32m    297\u001b[0m         \u001b[1;32mif\u001b[0m \u001b[1;32mnot\u001b[0m \u001b[0misinstance\u001b[0m\u001b[1;33m(\u001b[0m\u001b[0mconfig\u001b[0m\u001b[1;33m,\u001b[0m \u001b[0mPretrainedConfig\u001b[0m\u001b[1;33m)\u001b[0m\u001b[1;33m:\u001b[0m\u001b[1;33m\u001b[0m\u001b[1;33m\u001b[0m\u001b[0m\n\u001b[1;32m--> 298\u001b[1;33m             \u001b[0mconfig\u001b[0m \u001b[1;33m=\u001b[0m \u001b[0mAutoConfig\u001b[0m\u001b[1;33m.\u001b[0m\u001b[0mfrom_pretrained\u001b[0m\u001b[1;33m(\u001b[0m\u001b[0mpretrained_model_name_or_path\u001b[0m\u001b[1;33m,\u001b[0m \u001b[1;33m**\u001b[0m\u001b[0mkwargs\u001b[0m\u001b[1;33m)\u001b[0m\u001b[1;33m\u001b[0m\u001b[1;33m\u001b[0m\u001b[0m\n\u001b[0m\u001b[0;32m    299\u001b[0m \u001b[1;33m\u001b[0m\u001b[0m\n\u001b[0;32m    300\u001b[0m         \u001b[1;32mif\u001b[0m \u001b[1;34m\"bert-base-japanese\"\u001b[0m \u001b[1;32min\u001b[0m \u001b[0mstr\u001b[0m\u001b[1;33m(\u001b[0m\u001b[0mpretrained_model_name_or_path\u001b[0m\u001b[1;33m)\u001b[0m\u001b[1;33m:\u001b[0m\u001b[1;33m\u001b[0m\u001b[1;33m\u001b[0m\u001b[0m\n",
      "\u001b[1;32m~\\anaconda3\\envs\\casl\\lib\\site-packages\\transformers\\configuration_auto.py\u001b[0m in \u001b[0;36mfrom_pretrained\u001b[1;34m(cls, pretrained_model_name_or_path, **kwargs)\u001b[0m\n\u001b[0;32m    328\u001b[0m             \u001b[1;33m{\u001b[0m\u001b[1;34m'foo'\u001b[0m\u001b[1;33m:\u001b[0m \u001b[1;32mFalse\u001b[0m\u001b[1;33m}\u001b[0m\u001b[1;33m\u001b[0m\u001b[1;33m\u001b[0m\u001b[0m\n\u001b[0;32m    329\u001b[0m         \"\"\"\n\u001b[1;32m--> 330\u001b[1;33m         \u001b[0mconfig_dict\u001b[0m\u001b[1;33m,\u001b[0m \u001b[0m_\u001b[0m \u001b[1;33m=\u001b[0m \u001b[0mPretrainedConfig\u001b[0m\u001b[1;33m.\u001b[0m\u001b[0mget_config_dict\u001b[0m\u001b[1;33m(\u001b[0m\u001b[0mpretrained_model_name_or_path\u001b[0m\u001b[1;33m,\u001b[0m \u001b[1;33m**\u001b[0m\u001b[0mkwargs\u001b[0m\u001b[1;33m)\u001b[0m\u001b[1;33m\u001b[0m\u001b[1;33m\u001b[0m\u001b[0m\n\u001b[0m\u001b[0;32m    331\u001b[0m \u001b[1;33m\u001b[0m\u001b[0m\n\u001b[0;32m    332\u001b[0m         \u001b[1;32mif\u001b[0m \u001b[1;34m\"model_type\"\u001b[0m \u001b[1;32min\u001b[0m \u001b[0mconfig_dict\u001b[0m\u001b[1;33m:\u001b[0m\u001b[1;33m\u001b[0m\u001b[1;33m\u001b[0m\u001b[0m\n",
      "\u001b[1;32m~\\anaconda3\\envs\\casl\\lib\\site-packages\\transformers\\configuration_utils.py\u001b[0m in \u001b[0;36mget_config_dict\u001b[1;34m(cls, pretrained_model_name_or_path, **kwargs)\u001b[0m\n\u001b[0;32m    380\u001b[0m                 \u001b[1;34mf\"- or '{pretrained_model_name_or_path}' is the correct path to a directory containing a {CONFIG_NAME} file\\n\\n\"\u001b[0m\u001b[1;33m\u001b[0m\u001b[1;33m\u001b[0m\u001b[0m\n\u001b[0;32m    381\u001b[0m             )\n\u001b[1;32m--> 382\u001b[1;33m             \u001b[1;32mraise\u001b[0m \u001b[0mEnvironmentError\u001b[0m\u001b[1;33m(\u001b[0m\u001b[0mmsg\u001b[0m\u001b[1;33m)\u001b[0m\u001b[1;33m\u001b[0m\u001b[1;33m\u001b[0m\u001b[0m\n\u001b[0m\u001b[0;32m    383\u001b[0m \u001b[1;33m\u001b[0m\u001b[0m\n\u001b[0;32m    384\u001b[0m         \u001b[1;32mexcept\u001b[0m \u001b[0mjson\u001b[0m\u001b[1;33m.\u001b[0m\u001b[0mJSONDecodeError\u001b[0m\u001b[1;33m:\u001b[0m\u001b[1;33m\u001b[0m\u001b[1;33m\u001b[0m\u001b[0m\n",
      "\u001b[1;31mOSError\u001b[0m: Can't load config for 'sebastian-hofstaetter/distilbert-dot-margin_mse-T2-msmarco'. Make sure that:\n\n- 'sebastian-hofstaetter/distilbert-dot-margin_mse-T2-msmarco' is a correct model identifier listed on 'https://huggingface.co/models'\n\n- or 'sebastian-hofstaetter/distilbert-dot-margin_mse-T2-msmarco' is the correct path to a directory containing a config.json file\n\n"
     ]
    }
   ],
   "source": [
    "from transformers import AutoTokenizer, AutoModel\n",
    "\n",
    "# you can switch the model to the original \"distilbert-base-uncased\" to see that the usage example then breaks and the score ordering is reversed :O\n",
    "#pre_trained_model_name = \"distilbert-base-uncased\"\n",
    "pre_trained_model_name = \"sebastian-hofstaetter/distilbert-dot-margin_mse-T2-msmarco\"\n",
    "\n",
    "tokenizer = AutoTokenizer.from_pretrained(pre_trained_model_name) \n",
    "bert_model = AutoModel.from_pretrained(pre_trained_model_name)"
   ]
  },
  {
   "cell_type": "code",
   "execution_count": null,
   "id": "042a525e",
   "metadata": {},
   "outputs": [],
   "source": []
  }
 ],
 "metadata": {
  "kernelspec": {
   "display_name": "Python 3",
   "language": "python",
   "name": "python3"
  },
  "language_info": {
   "codemirror_mode": {
    "name": "ipython",
    "version": 3
   },
   "file_extension": ".py",
   "mimetype": "text/x-python",
   "name": "python",
   "nbconvert_exporter": "python",
   "pygments_lexer": "ipython3",
   "version": "3.6.13"
  }
 },
 "nbformat": 4,
 "nbformat_minor": 5
}
