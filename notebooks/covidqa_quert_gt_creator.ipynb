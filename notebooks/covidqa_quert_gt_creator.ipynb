{
 "cells": [
  {
   "cell_type": "code",
   "execution_count": 68,
   "id": "4877c712",
   "metadata": {},
   "outputs": [],
   "source": [
    "import json\n",
    "import csv\n",
    "import os"
   ]
  },
  {
   "cell_type": "code",
   "execution_count": 69,
   "id": "d01aefff",
   "metadata": {},
   "outputs": [],
   "source": [
    "data_file_path = '../../data/covidqa.json'\n",
    "query_output_file_path = '../../data/covidqa_queries.tsv'\n",
    "gt_output_file_path = '../../data/covidqa_references.json'"
   ]
  },
  {
   "cell_type": "code",
   "execution_count": 70,
   "id": "67bb6ffb",
   "metadata": {},
   "outputs": [],
   "source": [
    "with open(data_file_path) as f:\n",
    "    covidqa = json.load(f)"
   ]
  },
  {
   "cell_type": "code",
   "execution_count": 71,
   "id": "db7ac4f8",
   "metadata": {},
   "outputs": [],
   "source": [
    "# covidqa['data']"
   ]
  },
  {
   "cell_type": "code",
   "execution_count": 76,
   "id": "508e5199",
   "metadata": {},
   "outputs": [],
   "source": [
    "if os.path.exists(query_output_file_path):\n",
    "    os.remove(query_output_file_path)\n",
    "\n",
    "for data in covidqa['data']:\n",
    "    for para in data['paragraphs']:\n",
    "        # print(qas)\n",
    "        for qa in para['qas']:\n",
    "            query = qa['question'].strip()\n",
    "            qid = qa['id']\n",
    "            # print(qid, query)\n",
    "            with open(query_output_file_path, 'a', encoding='utf-8') as tsv_file:\n",
    "                writer = csv.writer(tsv_file, delimiter='\\t', lineterminator='\\n')\n",
    "                writer.writerow([qid, query])"
   ]
  },
  {
   "cell_type": "code",
   "execution_count": 75,
   "id": "be426116",
   "metadata": {},
   "outputs": [],
   "source": [
    "if os.path.exists(gt_output_file_path):\n",
    "    os.remove(gt_output_file_path)\n",
    "\n",
    "for data in covidqa['data']:\n",
    "    for para in data['paragraphs']:\n",
    "        # print(qas)\n",
    "        for qa in para['qas']:\n",
    "            row_dict = {'query_id':qa['id'], 'answers':[qa['answers'][0]['text'].strip()]}\n",
    "            query = qa['question'].strip()\n",
    "            qid = qa['id']\n",
    "            # print(row_dict)\n",
    "            with open(gt_output_file_path, 'a', newline='\\n', encoding='utf-8') as fp:\n",
    "                json.dump(row_dict, fp)\n",
    "                fp.write('\\n')"
   ]
  },
  {
   "cell_type": "code",
   "execution_count": null,
   "id": "4721f22f",
   "metadata": {},
   "outputs": [],
   "source": []
  }
 ],
 "metadata": {
  "kernelspec": {
   "display_name": "Python 3",
   "language": "python",
   "name": "python3"
  },
  "language_info": {
   "codemirror_mode": {
    "name": "ipython",
    "version": 3
   },
   "file_extension": ".py",
   "mimetype": "text/x-python",
   "name": "python",
   "nbconvert_exporter": "python",
   "pygments_lexer": "ipython3",
   "version": "3.6.13"
  }
 },
 "nbformat": 4,
 "nbformat_minor": 5
}
