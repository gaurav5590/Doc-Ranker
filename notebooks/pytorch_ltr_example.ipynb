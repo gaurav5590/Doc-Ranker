{
 "cells": [
  {
   "cell_type": "code",
   "execution_count": 1,
   "id": "91da742d",
   "metadata": {},
   "outputs": [],
   "source": [
    "import torch\n",
    "from pytorchltr.datasets import Example3\n",
    "from pytorchltr.loss import PairwiseHingeLoss"
   ]
  },
  {
   "cell_type": "code",
   "execution_count": 2,
   "id": "960e7b2a",
   "metadata": {},
   "outputs": [
    {
     "name": "stderr",
     "output_type": "stream",
     "text": [
      "WARNING:root:dataset file(s) in '.\\.pytorchltr_datasets\\example3' are missing or corrupt\n"
     ]
    },
    {
     "data": {
      "text/plain": [
       "<pytorchltr.datasets.svmrank.example3.Example3 at 0x20affbeb5f8>"
      ]
     },
     "execution_count": 2,
     "metadata": {},
     "output_type": "execute_result"
    }
   ],
   "source": [
    "# Load dataset\n",
    "train = Example3(split=\"train\")\n",
    "train"
   ]
  },
  {
   "cell_type": "code",
   "execution_count": 4,
   "id": "0adefa7e",
   "metadata": {},
   "outputs": [
    {
     "data": {
      "text/plain": [
       "<function pytorchltr.datasets.svmrank.svmrank.SVMRankDataset.collate_fn.<locals>._collate_fn(batch:List[pytorchltr.datasets.svmrank.svmrank.SVMRankItem]) -> pytorchltr.datasets.svmrank.svmrank.SVMRankBatch>"
      ]
     },
     "execution_count": 4,
     "metadata": {},
     "output_type": "execute_result"
    }
   ],
   "source": [
    "collate_fn = train.collate_fn()\n",
    "collate_fn"
   ]
  },
  {
   "cell_type": "code",
   "execution_count": 8,
   "id": "d34841b3",
   "metadata": {},
   "outputs": [
    {
     "data": {
      "text/plain": [
       "tensor([[1.0000, 1.0000, 0.0000, 0.3333, 0.0000],\n",
       "        [0.0000, 0.0000, 1.0000, 0.0000, 1.0000],\n",
       "        [0.0000, 1.0000, 0.0000, 1.0000, 0.0000],\n",
       "        [0.0000, 0.0000, 1.0000, 0.6667, 0.0000]])"
      ]
     },
     "execution_count": 8,
     "metadata": {},
     "output_type": "execute_result"
    }
   ],
   "source": [
    "train[0].features"
   ]
  },
  {
   "cell_type": "code",
   "execution_count": 9,
   "id": "0e5f6d7b",
   "metadata": {},
   "outputs": [
    {
     "data": {
      "text/plain": [
       "tensor([3, 2, 1, 1])"
      ]
     },
     "execution_count": 9,
     "metadata": {},
     "output_type": "execute_result"
    }
   ],
   "source": [
    "train[0].relevance"
   ]
  },
  {
   "cell_type": "code",
   "execution_count": 11,
   "id": "54b433a4",
   "metadata": {},
   "outputs": [
    {
     "data": {
      "text/plain": [
       "Linear(in_features=5, out_features=1, bias=True)"
      ]
     },
     "execution_count": 11,
     "metadata": {},
     "output_type": "execute_result"
    }
   ],
   "source": [
    "# Setup model, optimizer and loss\n",
    "model = torch.nn.Linear(train[0].features.shape[1], 1)\n",
    "model"
   ]
  },
  {
   "cell_type": "code",
   "execution_count": 12,
   "id": "997641a0",
   "metadata": {},
   "outputs": [],
   "source": [
    "optimizer = torch.optim.SGD(model.parameters(), lr=0.1)"
   ]
  },
  {
   "cell_type": "code",
   "execution_count": 14,
   "id": "d85b6147",
   "metadata": {},
   "outputs": [
    {
     "data": {
      "text/plain": [
       "PairwiseHingeLoss()"
      ]
     },
     "execution_count": 14,
     "metadata": {},
     "output_type": "execute_result"
    }
   ],
   "source": [
    "loss = PairwiseHingeLoss()\n",
    "loss"
   ]
  },
  {
   "cell_type": "code",
   "execution_count": 15,
   "id": "29134b1c",
   "metadata": {},
   "outputs": [],
   "source": [
    "# Train for 3 epochs\n",
    "for epoch in range(3):\n",
    "    loader = torch.utils.data.DataLoader(train, batch_size=2, collate_fn=collate_fn)\n",
    "    for batch in loader:\n",
    "        xs, ys, n = batch.features, batch.relevance, batch.n\n",
    "        l = loss(model(xs), ys, n).mean()\n",
    "        optimizer.zero_grad()\n",
    "        l.backward()\n",
    "        optimizer.step()"
   ]
  },
  {
   "cell_type": "code",
   "execution_count": 18,
   "id": "744d7787",
   "metadata": {},
   "outputs": [
    {
     "data": {
      "text/plain": [
       "Linear(in_features=5, out_features=1, bias=True)"
      ]
     },
     "execution_count": 18,
     "metadata": {},
     "output_type": "execute_result"
    }
   ],
   "source": [
    "model"
   ]
  },
  {
   "cell_type": "code",
   "execution_count": null,
   "id": "77a05128",
   "metadata": {},
   "outputs": [],
   "source": []
  }
 ],
 "metadata": {
  "kernelspec": {
   "display_name": "Python 3",
   "language": "python",
   "name": "python3"
  },
  "language_info": {
   "codemirror_mode": {
    "name": "ipython",
    "version": 3
   },
   "file_extension": ".py",
   "mimetype": "text/x-python",
   "name": "python",
   "nbconvert_exporter": "python",
   "pygments_lexer": "ipython3",
   "version": "3.6.12"
  }
 },
 "nbformat": 4,
 "nbformat_minor": 5
}
