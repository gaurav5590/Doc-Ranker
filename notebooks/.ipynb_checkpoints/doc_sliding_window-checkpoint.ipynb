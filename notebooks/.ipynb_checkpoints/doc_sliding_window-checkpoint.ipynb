{
 "cells": [
  {
   "cell_type": "code",
   "execution_count": 144,
   "id": "f18f22fc",
   "metadata": {},
   "outputs": [],
   "source": [
    "import spacy\n",
    "import torch\n",
    "from transformers import AutoTokenizer, AutoModelForSequenceClassification\n",
    "spacy_nlp = spacy.load(\"en_core_web_sm\")"
   ]
  },
  {
   "cell_type": "code",
   "execution_count": 2,
   "id": "2f5ade0b",
   "metadata": {},
   "outputs": [
    {
     "data": {
      "text/plain": [
       "\"Numerous human studies and animal models have implicated various infectious agents in the pathogenesis of vasculitis in susceptible hosts. However, the link between infection and vasculitis is very complex and only incompletely understood. In fact, different agents can induce the same type of vasculitis, as the case of leukocytoclastic vasculitis exemplifies. Conversely, the same agent can give rise to a panoply of host responses ranging from a clinically silent infection or localized organ involvement to devastating, widespread vasculitis.  Traditionally, vasculitides are classified as primary or secondary depending on whether an inciting agent, often but not invariably infective  in origin, can be identified. 1 However, the development of increasingly refined diagnostic tools has led to the reclassification of vasculitides previously considered idiopathic as being infection related. For instance, cryoglobulinemic vasculitis is now known to be related to hepatitis C virus (HCV) infection in the majority of cases. In addition, circumstantial evidence suggests that even vasculitides still classified as primary might be caused or triggered, at least in some cases, by environmental agents.Many questions, however, remain under debate. For example, what are the mechanisms that induce and maintain vasculitis? Which factors account for the different susceptibility to the development of vasculitis in different individuals? Which factors modulate disease severity and which specific vascular bed and organs are involved in the different vasculitides? What is the role of infective agents in primary vasculitis? Andlast but not least -what are the therapeutic implications of the recognition of an infective etiology of vasculitis? The main aims of this review were to elucidate the mechanisms by which infectious agents could induce vasculitis and to provide an update on human vasculitides of proven or suspected infectious origin. The implications for  treatment are also briefly discussed.Theoretically, pathogens can induce vasculitis by a number of different mechanisms. Direct endothelial invasion and damage is probably the main mechanism operating in rickettsial infection. 2 However, in the majority of cases, vasculitis is mainly the result of the immune response triggered by the offending agent. A humoral immune response with immune complex formation and deposition in and around vessel walls is thought to be primary mechanism in leukocytoclastic vasculitis. Molecular mimicry might lead to autoantibody production but also to activation of autoreactive lymphocytes. 3 A cellmediated immune response with or without granulomata formation is a recognized feature of some large-vessel vasculitides, although a link with infectious agents remains debated. Less common mechanisms postulated to underpin vasculitis are infectiontriggered immune dysregulation and anti-idiotypic response. 4 Experimental models have provided evidence that various infectious agents can induce vasculitis in susceptible animals. 5 These models have offered valuable insights into the pathogenic mechanisms operating in vasculitis, although none of those developed so far closely reproduces the stigmata of human vasculitis, with the possible exception of leukocytoclastic vasculitis.Chlamydia pneumoniae (CP), an obligatory intracellular Gram-negative bacterium, has been shown to induce alterations in the aortic wall. In particular, Fong et al 6 demonstrated that intratracheal infection with CP in New Zealand white rabbits  fed on a standard diet was able to induce atherosclerotic changes, which in one animal were associated with an adventitial lymphocytic infiltrate. 6 This latter finding suggests a role for CP in inducing adventitial periarteritis. In humans, CP infection has been linked to GCA (giant cell arteritis), which in a minority of cases is characterized histologically by adventitial periarteritis 7 in the absence of the more typical transmural infiltrate. However, the relationship between CP infection and GCA remains a matter of debate (see below).In addition to bacteria, a number of viruses have been demonstrated to be able to trigger vasculitis, such as the porcine reproductive and respiratory syndrome virus (PRRSV) as well as a host of herpesviruses including in particular the beta-herpesvirus cytomegalovirus (CMV). 5In swine, PRRSV has been shown to cause systemic small-vessel vasculitis with skin purpura and renal lesions similar to those observed in human leukocytoclastic vasculitis. 8 The pathogenesis of this vasculitis is most likely due to immune complexes, as immunofluorescence demonstrates the presence of immunoglobulins and complement in and around the affected vessel walls. 8 Macrophages, but not endothelial cells, have been found to host viral antigens. The early onset following the infection as well as the low morbidity and mortality observed are in keeping with the benign course of leukocytoclastic vasculitis in humans.Murine CMV infection is one of the most widely used models of vasculitis. [9] [10] [11] To gain a better understanding of the pathogenesis of CMV-induced disease, Persoons et al developed two models of CMV infection. 11 In the first model, local CMV infection resulted in the development of paw thickening and erythema followed by purpura. A batch of animals injected with high-dose CMV developed more severe lesions progressing to overt skin ulcerations. Clinical manifestations resolved within 4 weeks, whereas the animals treated with high-dose CMV were killed 10 days after the infection for ethical reasons. Initially, histology showed signs of endothelial activation associated with perivascular CMV-positive mononuclear cell infiltration. Later changes included colonization of endothelial cells by CMV, frank vasculitis, and thrombotic occlusion.In the second model, generalized CMV infection induced by intraperitoneal administration of the virus resulted in multiple organ pathology, including hemorrhages, inflammation, and gastrointestinal ulceration. CMV-encoded antigens were found, especially in mononuclear inflammatory cells in the organs and peripheral blood.These models provide important clues to the mechanisms underpinning CMV-induced vasculitis. First, both local and generalized infection resulted in vascular changes, with capillaries and small venules being mainly affected. Second, mononuclear cells appeared to become infected with the virus before endothelial cells, suggesting a role for mononuclear cells in transporting the virus and thus in spreading the infection. Third, a higher viral load was associated with more severe disease. This latter finding might be relevant to human disease, as CMV infection has mostly been described in immunodeficient patients who are unable to mount an effective response to, and thus eradicate CMV. 12 In addition to peripheral vessel vasculitis, CMV has also been shown to be able to cause aortitis. Presti et al 13 infected wild-type mice and mice lacking the interferongamma receptor (IFN-gR À/À ) intraperitoneally with murine CMV. Both strains developed aortic adventitial and, to a lesser extent, intima inflammation characterized by mononuclear cell infiltration. Arteritis was associated with CMV antigen in the aortic media. However, whereas in wild-type animals lesions resolved by day 84 postinfection,  IFN-gR À/À mice had significant arteritis as late as 154 days postinfection. The main points of this study are: first, that CMV can cause aortitis; and, second, that IFN-g is crucial in curbing vascular inflammation. The importance of IFN-g in regulating the response against CMV is further borne out by an in-vitro explant reactivation model by the same authors, which demonstrated that IFN-g could reversibly inhibit CMV reactivation from latency. As a further case in point, IFN-g has also been shown to control vascular inflammation in a model of gamma herpesvirus-68-induced largevessel vasculitis. 14 Another cytokine that has been shown to downregulate the development of gamma herpesvirus-68-induced vasculitis is interleukin-1 receptor antagonist. 15 Another herpesvirus that has been used to induce vasculitis in animals is herpes simplex virus (HSV). In a study involving 258 ICR strain mice, the earlobes of the mice were inoculated with a HSV type 1 solution. 16 Thirty mice inoculated with culture medium served as controls. Four weeks later, a second inoculation was performed. The mice inoculated with HSV manifested changes as early as 3 days after the first inoculation. Common signs were facial hair loss, erythema, and skin ulcerations on the scratched earlobe, and eye disease including uveitis. Some mice with relatively severe manifestations but also mice without overt clinical signs showed poor  general condition and died. After the second inoculation, arthritis, oral and genital ulcers, and keratitis were the main features. These manifestations were generally more severe than those appeared after the initial inoculation. Vasculitis was demonstrated in intestinal, oral, ear  lobe, and genital epithelial lesions. HSV DNA sequences were detected by polymerase chain reaction in lesional skin and the gastrointestinal tract of affected mice, but not in normal healthy skin.These findings, particularly those appeared after the second inoculation, are similar to those seen in human Adamantiades-Behçet's disease (ABD), which is typically characterized by oral and genital ulcers often associated with inflammatory eye disease and arthritis. 17 However, in this model only 29.8% of infected mice developed ABD-like manifestations defined as at least two signs, while around 33% died after the infection and 33% remained healthy or developed a single sign of disease. It can be speculated  that the development of vasculitis represented an immune reaction attempting to clear the virus, while mice unable to mount a strong immune response succumbed to viral dissemination. In fact, the development of ABD-like features mainly after the second infection could be in keeping with the hypothesis that a strong immune response elicited by antigenic rechallenge was the main determinant of vasculitis.The interest in the  infectious etiology of vasculitis has recently been rekindled by the worldwide spread of HIV because both HIV-and opportunistic-agent-induced  vasculitis have been reported in HIV-infected individuals. To dissect the mechanisms underlying HIV-associated vasculopathy, Tinkle et al developed a model of transgenic mice carrying a replication-defective HIV-1 provirus with selective deletion of the gag, pol, and env genes. 18 The majority of transgenic mice developed an extensive vasculopathy in vessels of different size. Vessel histology revealed intima hyperplasia,  most likely due to the migration of smooth muscle cells from the media, hypocellularity in the medial layer, and a predominantly adventitial infiltrate consisting primarily of T cells and occasionally of plasma cells and monocytes; endothelial cells were apparently unaffected. The intimal thickening generated significant luminal narrowing in some vessels, with the restricted blood flow leading to ischemia in the involved tissues. The expression of HIV nonstructural genes appeared to be confined to smooth muscle cells, in keeping with the abnormal proliferation of this cell type. Of interest, proliferation of smooth muscle cells occurred in some animals in the absence of detectable inflammatory cell infiltration, suggesting that the smooth muscle cell was the primary target of HIV, whereas the adventitial immune-mediated response probably represented a secondary event. These findings are intriguing. However, this model does not reliably reproduce the characteristics of human HIV-associated vasculopathy. In fact, endothelial cells have been demonstrated to be often affected in HIV-infected individuals 19 , whereas the broad spectrum of HIV vasculitis seems to involve a multiplicity of mechanisms, the mutual interactions of which are still to be fully unraveled. 20 In conclusion, animal models of vasculitis can prove valuable in promoting our knowledge of both etiology and pathogenesis of vasculitis, with potential important therapeutic implications. The variation in clinical pattern and/or severity of vasculitis observed in infected animals could provide an excellent opportunity to investigate which factors contribute to determine the disease course. At the same time, caution should be exerted in extrapolating experimental findings to human disease, as no model seems to reliably reproduce the features of human vasculitis, with the possible exception of leukocytoclastic vasculitis.Treponema pallidum is a known cause of ascending aortitis. Aortitis secondary to syphilis infection has a low prevalence and occurs in the tertiary stage of the disease. 21, 22 Serology for T. pallidum is positive and the histology of the aorta shows destruction and fibrosis of the media and a dense inflammatory infiltrate consisting of lymphocytes and plasma cells around the vasa vasorum of the adventitia. 22, 23 However, T. pallidum is only rarely detected in arterial wall lesions. 23 Syphilitic  aortitis should not be confused with aortitis secondary to GCA or Takayasu arteritis. 24 Other complications of syphilis are retinal 25 and cerebral 26 vasculitis.Tuberculous aortoarteritis is usually caused by a direct extension of the disease from adjacent tuberculous tissue and occasionally from blood-borne seedlings from an active distant focus. 27 Tuberculous aortitis generally develops at the distal aortic arch and the descending aorta, which are close to mediastinal lymph nodes, but involvement of the ascending aorta has also been reported as an exception to the rule. 28 True and false aneurysms are common manifestations. Drug and sometimes surgical 29 treatment is required. Retinal vasculitis  30 has been also linked in one study to Mycobacterium tuberculosis infection.Rickettsiae, which are obligate intracellular bacteria, can cause widespread vasculopathy by directly affecting the endothelium, leading to microvascular leakage and thrombosis. 2 Laboratory tests usually reveal thrombocytopenia and elevated prothrombin and partial thromboplastin times. 21 Hepatitis-B-associated polyarteritis nodosa Hepatitis B virus (HBV) is a recognized causative agent of polyarteritis nodosa (PAN), most likely via the formation of immune complexes. 23 However, with the decline of HBV infection, mainly due to the development of a specific vaccine and an aggressive vaccination campaign, the prevalence of HBV infection in individuals with PAN has been steadily decreasing over time. 23 In fact, recent estimates from France suggest that, currently, only about 5% of cases of PAN are HBV related. 31 HBV-PAN usually becomes manifest a mean of 4 months following exposure to HBV when hepatitis  is still undiagnosed. 23 Clinically, HBV-PAN is virtually indistinguishable from classic PAN 32 , but relapses are very rare (<10%). 23 Combination therapy with a brief course (approximately 1 week) of glucocorticoids associated with antiviral agents (lamivudine 100 mg/day or IFN-a 3,000,000 units subcutaneously three times a week with a tapering scheme) has been advocated on the basis of retrospective data showing a poorer outcome following therapy with glucocorticoids and immunosuppressants in HBV-PAN compared with idiopathic PAN. 23 Plasma exchange has also been reported as being useful in severe cases. 23 Hepatitis C-associated cryoglobulinemic vasculitis Hepatitis C virus (HCV) infection has been shown to induce type II and, less frequently, type III cryoglobulins. 33 However, cryoglobulinemic vasculitis, usually of the small-vessel leukocytoclastic type, develops only in about 5% of patients with detectable cryoglobulins. 34 Common clinical manifestations include purpura, glomerulonephritis, peripheral neuropathy, arthritis, and sicca syndrome. 34 Laboratory tests usually reveal a low C4 and -sometimes -a positive rheumatoid factor, but various low-titer autoantibodies have also been reported. 35 Treatment of HCV vasculitis should be tailored to the severity of the disease. 36 In patients with mild disease (without severe organ involvement or life-threatening disease) antiviral therapy (IFNa 3,000,000 units/three times a week with or without low-dose glucocorticoids for 6 months, followed by maintenance therapy with IFN-a 3,000,000 units/3-weekly with or without ribavirin for a further 6-12 months) can suffice. 36 However, relapses are frequent, particularly when HCV is not eradicated. In patients with major organ involvement, a 6-month course of induction therapy with pulse cyclophosphamide and glucocorticoids is required, followed by maintenance antiviral therapy for 6-12 months. 36 Patients with life-threatening disease should be treated aggressively with oral cyclophosphamide, glucocorticoid pulses and plasmapheresis for 6 months, while after remission induction antiviral therapy can be commenced. 36 In patients with refractory vasculitis and glomerulonephritis, rituximab could be a valuable therapeutic option. 37 With the advent of the AIDS epidemic, various types of vasculopathies have increasingly been described in HIV-infected patients. Opportunistic infections, mainly due to CMV or M. tuberculosis, have been reported, mainly in immunodeficient patients. 38 As the route of transmission of HIV is also shared by HBV and HCV, it is not surprising that such viruses have been implicated as causative agents in some cases, even in immunocompetent hosts. 20,38 Drug-induced vasculitis is also not infrequent. 20 In many cases, however, HIV seems to directly induce vasculopathies of different types. A retrospective review of 148 symptomatic HIV-infected patients referred for muscle, nerve, or skin biopsy documented the presence of vasculitis in 34 (23%) patients. 20 Various vasculitic types were recognized, including necrotizing arteritis (3 patients), non-necrotizing arteritis (1 patient), neutrophilic vasculitis (7 patients), mononuclear vasculitis (17 patients), and other small-vessel inflammatory changes (6 patients). According to the American College of Rheumatology criteria, 11 patients could be classified as having a distinct category of vasculitis, including PAN (4 patients), Henoch-Schö nlein purpura (1 patient), and drug-induced hypersensitivity vasculitis (6 patients), whereas 23 were classified as having unspecified vasculitis. These vasculitides were seen at different stages of HIV infection. One patient had  HBV surface antigenemia, two had cryoglobulinemia, and two were co-infected by human T lymphotropic virus type I (HTLV-1). CMV inclusions and  antigens were detected in endothelial cells in one patient. HIV antigens and genome were detected in perivascular cells of two of the three patients with necrotizing arteritis. Immune deposits were found in small-vessel walls in five skin biopsy samples showing small vessel vasculitis and in the muscle of the three patients with necrotizing arteritis. These data indicate that a wide range of inflammatory vascular diseases  can occur in HIV-infected individuals. The high (23%) frequency of vasculitis in this cohort of HIV patients is probably an overestimation related to a referral bias, as it is likely that only patients with symptoms and/ or signs suggestive of vasculitis underwent a biopsy. A more realistic estimate of the true prevalence of vasculitis in HIV-infected individuals is in the range of 1% or less. 23, 39 Polyarteritis nodosa has been reported as occurring in the setting of HIV infection in the absence of hepatitis B surface antigen (HbsAg) positivity. 40 The pathogenesis of HIV-PAN is probably mediated by immune complexes, and a study from our group failed to detect, by in-situ hybridization, proviral HIV-1 DNA in a skin sample. 41 Compared with classic PAN, its HIV-associated variant appears to be less often chronic and more frequently limited to the peripheral nerves and muscles, which might account for the less severe course observed in HIV patients. Along the same lines, HIV-PAN  has been reported to respond well to moderate (approximately 0.5 mg/kg/day) doses of prednisone. 40 More recently, Chetty et al described 16 HIV patients with large-vessel vasculitis characterized by aneurysms, occlusive disease, or both. 42 Clinical manifestations included rupture of aneurysm, transient ischemic attacks, hypertension, ischemia to the lower extremity, or a mass at the site of the aneurysm. Arteries affected included the common carotid, abdominal aorta, common iliac, femoral, and popliteal. No patient had any obvious infective vascular lesion, although one patient had a positive TPHA (Treponema Pallidum Hemagglutination Test) test for syphilis, whereas culture of blood and thrombus contents in another patient was positive for Staphylococcus aureus. Histology showed leukocytoclastic vasculitis of the vasa vasora and periadventitial vessels, proliferation of slit-like vascular channels, chronic inflammation, and fibrosis. There was associated medial fibrosis with loss and fragmentation of muscle and elastic tissue. Intimal changes consisted of duplication and fragmentation of the internal elastic lamina with calcification. Based on these findings, the authors argued for an infective or immune-complex origin, resulting in leukocytoclastic vasculitis of vasa vasora and periadventitial vessels. An intriguing finding reported in this study is the presence of slitlike vascular channels. Such lesions have not been observed in HIV-negative individuals and their appearance have in fact coincided with the HIV epidemic. Whether these lesions represent an early stage of Kaposi's sarcoma is not known. Angiogenic factors have been postulated to play a role, although its precise pathogenesis remains unclear.Other vasculopathies reported in HIV-positive patients include vasculitis characterized by acral ischemic changes 43 , angiocentric immunoproliferative disorders 44 , necrotizing granulomatous vasculitis 45 , 'primary' pulmonary hypertension, retinal  vessel alterations with 'cotton wool' infarctions and hemorrhages 19 , and cerebral vasculitis. 46 However, cerebral vasculitis accounts for only a minority (15%) of cerebral ischemic lesions. 46 Given the wide spectrum of vascular alterations associated with HIV infection, it is very likely that different pathogenic mechanisms might be involved. More specifically, immune complexes have been mapped to leukocytoclastic vasculitis 42 and immune dysregulation to angiocentric immunoproliferative disorders 44 , but a direct effect of HIV on vascular components 19, 40 and immune system activation with production of inflammatory cytokines 45 might also be implicated. However, the introduction of highly active antiretroviral treatment, which has been associated with an increased risk of developing immune-mediated disorders via activation of the immune system, does not appear to have impacted on the frequency of HIV-vasculitis. 47, 48 Immunological serology is of doubtful value in the differential diagnosis of vasculitis occurring in HIV individuals because HIV infection has been shown to stimulate the synthesis of a whole array of autoantibodies, including antinucler, anticardiolipin 49 , and antineutrophil cytoplasmic antibodies (ANCA). 50 In particular, ANCA positivity has been shown not to correlate with the development of ANCA-associated vasculitis in patients with HIV. 50 A high index of suspicion for vasculitis should be maintained in patients with HIV because many clinical manifestations, such as constitutional symptoms and cutaneous lesions, might be signs of vasculitis but could also be due to HIV or other infection in the absence of vasculitis or to antiviral therapy.There  are limited data on the treatment of HIV-vasculitis. Glucocorticoids are considered the drug of choice 48 but uncontrolled observations suggest a role for immunosuppressants 48 and plasmapheresis 51 in resistant cases.Circumstantial evidence suggests a role for infectious agents in the pathogenesis of GCA, including cyclic fluctuations in incidence rates over time 52 and an activated status of the antigen-presenting dendritic cells in the adventitial layer of temporal arteries. 53 However, studies that have searched for infectious triggers have produced discordant results. In particular, CP finding in giant cell arteries have been reported in some 54,55 , but not other 56, 57 studies. Similarly, varicella zoster virus has been implicated as trigger of GCA in one study 58 but this result has not been confirmed by other larger studies. 57, 59 Discordant findings have also been reported for parvovirus B19. [60] [61] [62] Various infections have been described as preceding the onset  of Takayasu arteritis, although the link between infection and vasculitis has never been conclusively proven. 4 High immunoglobulin levels against an extract of M. tuberculosis and its 65 kDa heatshock protein has been demonstrated in most Takayasu patients but not in unaffected controls, suggesting that M. tuberculosis might be involved in the pathogenesis of Takayasu arteritis, at least in some cases. 63 Medium-and small-vessel vasculitis Nasal carriage of S. aureus has been mapped to an increased risk of flares and relapses of Wegener's granulomatosis 64 ; prolonged trimethoprim-sulfamethoxazole therapy has been reported to reduce the relapse risk by 60%. 65 Various infections have been described in association with Kawasaki disease. 4 To date, the strongest association reported is with the New Haven coronavirus. In a case-control study, specimens of respiratory secretions from 72.7% of 11 children with Kawasaki disease but from only 4.5% of 22 control subjects (children without Kawasaki disease matched by age and the time the specimens were obtained) tested positive for New Haven coronavirus by reverse-transcriptase polymerase chain reaction. 66 A number of pathogens have been proposed as etiologic agents of Cogan's syndrome, mainly on the basis of serologic findings, but so far these associations remain speculative. 4 A wide array of infectious agents has been reported in association with vasculitis of the CNS, including T. pallidum 26 , HCV 67 , HIV 46 , parvovirus B19 68 , M. pneumoniae 69 , and Borrelia burgdorferi. 70 Bacteria  and fungi have also been implicated in some cases. 71 A bacterial and viral etiology was postulated for ABD by Adamantiades and Behçet. 72 ABD signs have been reported between one and two weeks after verified contact with a variety of bacteria. 73 In particular, streptococcal strains, especially Streptococcus sanguis, and HSV have been postulated to participate in the etiology of ABD. More specifically, oral bacterial streptococcal antigens and HSV I DNA, as well as antistreptococcal and anti-HSV antibodies, have been detected more frequently in ABD patients than in controls. 72, 74 Cross-reactivity between microbial HSP65 and human HSP60 has been hypothesized to trigger the disease in predisposed hosts by stimulating T cells and by inducing the synthesis of proinflammatory cytokines. 75 Conversely, oral administration of the HSP60 336-351  peptide has been shown to ameliorate ABD uveitis in humans. 76 Multiple infectious and noninfectious agents have been linked to leukocytoclastic vasculitis and Henoch-Schö nlein purpura, two conditions that share a number of features, including skin purpura and sometimes the history  of a preceding infection. 4, 77 In both cases, immune complexes are probably the pathogenic mechanism leading to vasculitic lesions. An infectious origin of leukocytoclastic vasculitis has been estimated to account for one-third of all cases of leukocytoclastic vasculitis. 77Many infectious agents have occasionally been linked to different types of vasculitisoften unclassifiable -in humans. 78 These reported associations are often speculative and some might be explained by chance alone. Epstein-Barr virus (EBV) and CMV are among the most frequently reported infective triggers of vasculitis. More specifically, EBV has been implicated in the pathogenesis of leukocytoclastic 79 and granulomatous 80 vasculitis, as well as of vasculitis characterized by widespread large-vessel 81 and coronary artery 82 aneurysms. In a few patients with Duncan disease, a condition characterized by a selective EBV-specific immune defect, EBV has been mapped to lymphocytic vasculitis, corioretinitis, and lymphomatoid granulomatosis. 83 CMV is a known opportunistic agent that can be reactivated in immunocompromised hosts, resulting in systemic  vasculitis. 38, 84 However, isolated reports suggest that CMV vasculitis might also occur in immunocompetent subjects. 85 CMV vasculitis can be disseminated or involve one or more organs, with the skin, the gastrointestinal tract, and CNS being most frequently affected. 12 Pathologic findings include intraendothelial viral inclusions, inflammatory infiltrate of the vessel wall, and luminal changes. 12 Another virus, HTLV-1, has been found to cause mainly retinal vasculitis 86 in addition to the well-known complication of T-cell leukemia.A list of pathogens implicated in classified and unclassified human vasculitis is shown in Box 1.Data from human studies and animal models consistently indicate that a number of infectious agents can trigger vasculitis in susceptible hosts. Different agents can induce the same type of vasculitis, as the case of leukocytoclastic vasculitis exemplifies. Conversely, the same agent can give rise to a variety of host responses ranging from a clinically silent infection or localized organ involvement to devastating, widespread vasculitis. Some exposed subjects do not develop clinically detectable vasculitis or other organ involvement at all, probably either because they can mount (and then switch off) an efficient immune response,  or because of congenital resistance to a given pathogen. For instance, individuals lacking the chemokine receptor-5, a port of entry required  by most HIV strains, are resistant to HIV infection even after repeated exposure to the virus. 87 Many infectious agents display varying degrees of tropism for different organs and vascular beds. Such tropism might be due to the expression by the offending agent of surface molecules  that bind to specific host's ligands in different tissues and vascular segments. 88 However, persistence of a micro-organism at certain sites  might also result from the inability of the immune system to clear the pathogen at these sites.Variability in disease severity is a recognized feature of experimental as well as of human vasculitis. What modulates disease severity is still poorly understood, but antigen load 11 (and  probably other antigen properties) 89 and the efficiency of the immune response might both play a role. IFN-g has been shown to be a key mediator of antigen-driven immune response in some experimental models 13,14 , but other mediators 15 are also implicated. Another related issue is why vasculitis runs a self-limiting course in some cases but becomes chronic in others. Theoretically, persistent vasculitis could be due to  the host's inability to eradicate the infection or to switch off the immune response triggered by the infective agent after this has been cleared. Reports of resolution of virus-related vasculitis after virus eradication has been achieved would appear to support the first hypothesis. 36 However, limited data mainly from animal and in-vitro studies suggest that micro-organisms might also induce vasculitis via a 'hit and run' mechanism. 90 Furthermore, after a viral infection the immune response has been shown to interact with 91 , and prevent the infectious agent from becoming reactivated 92 without fully eradicating it or provoking vasculitis or other organ damage. IFN-g appears to be crucially involved in blocking viral reactivation. 92 The role of infectious agents in the pathogenesis of the primary vasculitides is still under debate. For instance, numerous agents have been implicated in the pathogenesis of GCA, but findings of specific infection have not been consistently replicated. Differences in detection methods, 'hit and run' disease induction followed by clearance of the offending agent, and different etiologic agents leading to the development of the same vasculitis in different individuals might explain, at least partially, the discrepancies reported in the literature.What are the therapeutic implications of the recognition of an infective etiology of vasculitis? Theoretically, treatment aiming at eradicating the causing pathogen would be the logical choice. However, severe vasculitis might additionally require immunosuppressive therapy to attain rapid disease control.Finally, it is important to remember that other factors, such as the patient's age and genetic make-up, and the anatomical characteristics of the vessels involved might all contribute to regulate disease expression. 93 The challenge is thus not only to establish the etiology of infection-related vasculitis but also to determine how disease expression is modulated. In turn, a better knowledge of the interplay between infective agents and host factors could result in more effective therapeutic approaches.consider infective causes in patients with vasculitis positive autoantibodies including antineutrophil cytoplasmic antibodies have been reported in vasculitis of proven infectious origin vasculitis of infectious origin might require immunosuppressive therapy in addition to eradicating treatment (if  available) if the clinical picture is dominated by severe manifestationsto establish the role of cytokines and other factors that might account for the different susceptibility to infective agents in inducing vasculitis to investigate the mechanisms contributing to the persistence and severity of vasculitis to investigate the mechanisms underpinning the tropism of infective agents for specific organs\""
      ]
     },
     "execution_count": 2,
     "metadata": {},
     "output_type": "execute_result"
    }
   ],
   "source": [
    "with open('../data/long_doc_example.txt', 'r', encoding='utf-8') as f:\n",
    "    doc_text = f.read().replace(\"\\n\", \" \")\n",
    "doc_text"
   ]
  },
  {
   "cell_type": "code",
   "execution_count": 9,
   "id": "e11eae44",
   "metadata": {},
   "outputs": [],
   "source": [
    "doc = spacy_nlp(doc_text)"
   ]
  },
  {
   "cell_type": "code",
   "execution_count": 117,
   "id": "892cc300",
   "metadata": {},
   "outputs": [
    {
     "data": {
      "text/plain": [
       "['Numerous human studies and animal models have implicated various infectious agents in the pathogenesis of vasculitis in susceptible hosts.',\n",
       " 'However, the link between infection and vasculitis is very complex and only incompletely understood.',\n",
       " 'In fact, different agents can induce the same type of vasculitis, as the case of leukocytoclastic vasculitis exemplifies.',\n",
       " 'Conversely, the same agent can give rise to a panoply of host responses ranging from a clinically silent infection or localized organ involvement to devastating, widespread vasculitis.  ',\n",
       " 'Traditionally, vasculitides are classified as primary or secondary depending on whether an inciting agent, often but not invariably infective  in origin, can be identified.',\n",
       " '1',\n",
       " 'However, the development of increasingly refined diagnostic tools has led to the reclassification of vasculitides previously considered idiopathic as being infection related.',\n",
       " 'For instance, cryoglobulinemic vasculitis is now known to be related to hepatitis C virus (HCV) infection in the majority of cases.',\n",
       " 'In addition, circumstantial evidence suggests that even vasculitides still classified as primary might be caused or triggered, at least in some cases, by environmental agents.',\n",
       " 'Many questions, however, remain under debate.',\n",
       " 'For example, what are the mechanisms that induce and maintain vasculitis?',\n",
       " 'Which factors account for the different susceptibility to the development of vasculitis in different individuals?',\n",
       " 'Which factors modulate disease severity and which specific vascular bed and organs are involved in the different vasculitides?',\n",
       " 'What is the role of infective agents in primary vasculitis?',\n",
       " 'Andlast but',\n",
       " 'not least -what are the therapeutic implications of the recognition of an infective etiology of vasculitis?',\n",
       " 'The main aims of this review were to elucidate the mechanisms by which infectious agents could induce vasculitis and to provide an update on human vasculitides of proven or suspected infectious origin.',\n",
       " 'The implications for  treatment are also briefly discussed.',\n",
       " 'Theoretically, pathogens can induce vasculitis by a number of different mechanisms.',\n",
       " 'Direct endothelial invasion and damage is probably the main mechanism operating in rickettsial infection.',\n",
       " '2',\n",
       " 'However, in the majority of cases, vasculitis is mainly the result of the immune response triggered by the offending agent.',\n",
       " 'A humoral immune response with immune complex formation and deposition in and around vessel walls is thought to be primary mechanism in leukocytoclastic vasculitis.',\n",
       " 'Molecular mimicry might lead to autoantibody production but also to activation of autoreactive lymphocytes.',\n",
       " '3',\n",
       " 'A cellmediated immune response with or without granulomata formation is a recognized feature of some large-vessel vasculitides, although a link with infectious agents remains debated.',\n",
       " 'Less common mechanisms postulated to underpin vasculitis are infectiontriggered immune dysregulation and anti-idiotypic response.',\n",
       " '4 Experimental models have provided evidence that various infectious agents can induce vasculitis in susceptible animals.',\n",
       " '5',\n",
       " 'These models have offered valuable insights into the pathogenic mechanisms operating in vasculitis, although none of those developed so far closely reproduces the stigmata of human vasculitis, with the possible exception of leukocytoclastic vasculitis.',\n",
       " 'Chlamydia pneumoniae (CP), an obligatory intracellular Gram-negative bacterium, has been shown to induce alterations in the aortic wall.',\n",
       " 'In particular, Fong et al 6 demonstrated that intratracheal infection with CP in New Zealand white rabbits  fed on a standard diet was able to induce atherosclerotic changes, which in one animal were associated with an adventitial lymphocytic infiltrate.',\n",
       " '6',\n",
       " 'This latter finding suggests a role for CP in inducing adventitial periarteritis.',\n",
       " 'In humans, CP infection has been linked to GCA (giant cell arteritis), which in a minority of cases is characterized histologically by adventitial periarteritis 7 in the absence of the more typical transmural infiltrate.',\n",
       " 'However, the relationship between CP infection and GCA remains a matter of debate (see below).In addition to bacteria, a number of viruses have been demonstrated to be able to trigger vasculitis, such as the porcine reproductive and respiratory syndrome virus (PRRSV) as well as a host of herpesviruses including in particular the beta-herpesvirus cytomegalovirus (CMV).',\n",
       " '5In swine, PRRSV has been shown to cause systemic small-vessel vasculitis with skin purpura and renal lesions similar to those observed in human leukocytoclastic vasculitis.',\n",
       " '8',\n",
       " 'The pathogenesis of this vasculitis is most likely due to immune complexes, as immunofluorescence demonstrates the presence of immunoglobulins and complement in and around the affected vessel walls.',\n",
       " '8 Macrophages, but not endothelial cells, have been found to host viral antigens.',\n",
       " 'The early onset following the infection as well as the low morbidity and mortality observed are in keeping with the benign course of leukocytoclastic vasculitis in humans.',\n",
       " 'Murine CMV infection is one of the most widely used models of vasculitis.',\n",
       " '[9] [10] [11] To gain a better understanding of the pathogenesis of CMV-induced disease, Persoons et al developed two models of CMV infection.',\n",
       " '11',\n",
       " 'In the first model, local CMV infection resulted in the development of paw thickening and erythema followed by purpura.',\n",
       " 'A batch of animals injected with high-dose CMV developed more severe lesions progressing to overt skin ulcerations.',\n",
       " 'Clinical manifestations resolved within 4 weeks, whereas the animals treated with high-dose CMV were killed 10 days after the infection for ethical reasons.',\n",
       " 'Initially, histology showed signs of endothelial activation associated with perivascular CMV-positive mononuclear cell infiltration.',\n",
       " 'Later changes included colonization of endothelial cells by CMV, frank vasculitis, and thrombotic occlusion.',\n",
       " 'In the second model, generalized CMV infection induced by intraperitoneal administration of the virus resulted in multiple organ pathology, including hemorrhages, inflammation, and gastrointestinal ulceration.',\n",
       " 'CMV-encoded antigens were found, especially in mononuclear inflammatory cells in the organs and peripheral blood.',\n",
       " 'These models provide important clues to the mechanisms underpinning CMV-induced vasculitis.',\n",
       " 'First, both local and generalized infection resulted in vascular changes, with capillaries and small venules being mainly affected.',\n",
       " 'Second, mononuclear cells appeared to become infected with the virus before endothelial cells, suggesting a role for mononuclear cells in transporting the virus and thus in spreading the infection.',\n",
       " 'Third, a higher viral load was associated with more severe disease.',\n",
       " 'This latter finding might be relevant to human disease, as CMV infection has mostly been described in immunodeficient patients who are unable to mount an effective response to, and thus eradicate CMV.',\n",
       " '12',\n",
       " 'In addition to peripheral vessel vasculitis, CMV has also been shown to be able to cause aortitis.',\n",
       " 'Presti et al 13 infected wild-type mice and mice lacking the interferongamma receptor (IFN-gR À/À ) intraperitoneally with murine CMV.',\n",
       " 'Both strains developed aortic adventitial and, to a lesser extent, intima inflammation characterized by mononuclear cell infiltration.',\n",
       " 'Arteritis was associated with CMV antigen in the aortic media.',\n",
       " 'However, whereas in wild-type animals lesions resolved by day 84 postinfection,  IFN-gR À/À mice had significant arteritis as late as 154 days postinfection.',\n",
       " 'The main points of this study are: first, that CMV can cause aortitis; and, second, that IFN-g is crucial in curbing vascular inflammation.',\n",
       " 'The importance of IFN-g in regulating the response against CMV is further borne out by an in-vitro explant reactivation model by the same authors, which demonstrated that IFN-g could reversibly inhibit CMV reactivation from latency.',\n",
       " 'As a further case in point, IFN-g has also been shown to control vascular inflammation in a model of gamma herpesvirus-68-induced largevessel vasculitis.',\n",
       " '14',\n",
       " 'Another cytokine that has been shown to downregulate the development of gamma herpesvirus-68-induced vasculitis is interleukin-1 receptor antagonist.',\n",
       " '15',\n",
       " 'Another herpesvirus that has been used to induce vasculitis in animals is herpes simplex virus (HSV).',\n",
       " 'In a study involving 258 ICR strain mice, the earlobes of the mice were inoculated with a HSV type 1 solution.',\n",
       " '16 Thirty mice inoculated with culture medium served as controls.',\n",
       " 'Four weeks later, a second inoculation was performed.',\n",
       " 'The mice inoculated with HSV manifested changes as early as 3 days after the first inoculation.',\n",
       " 'Common signs were facial hair loss, erythema, and skin ulcerations on the scratched earlobe, and eye disease including uveitis.',\n",
       " 'Some mice with relatively severe manifestations but also mice without overt clinical signs showed poor  general condition and died.',\n",
       " 'After the second inoculation, arthritis, oral and genital ulcers, and keratitis were the main features.',\n",
       " 'These manifestations were generally more severe than those appeared after the initial inoculation.',\n",
       " 'Vasculitis was demonstrated in intestinal, oral, ear  lobe, and genital epithelial lesions.',\n",
       " 'HSV DNA sequences were detected by polymerase chain reaction in lesional skin and the gastrointestinal tract of affected mice, but not in normal healthy skin.',\n",
       " \"These findings, particularly those appeared after the second inoculation, are similar to those seen in human Adamantiades-Behçet's disease (ABD), which is typically characterized by oral and genital ulcers often associated with inflammatory eye disease and arthritis.\",\n",
       " '17',\n",
       " 'However, in this model only 29.8% of infected mice developed ABD-like manifestations defined as at least two signs, while around 33% died after the infection and 33% remained healthy or developed a single sign of disease.',\n",
       " 'It can be speculated  that the development of vasculitis represented an immune reaction attempting to clear the virus, while mice unable to mount a strong immune response succumbed to viral dissemination.',\n",
       " 'In fact, the development of ABD-like features mainly after the second infection could be in keeping with the hypothesis that a strong immune response elicited by antigenic rechallenge was the main determinant of vasculitis.',\n",
       " 'The interest in the  infectious etiology of vasculitis has recently been rekindled by the worldwide spread of HIV because both HIV-and opportunistic-agent-induced  vasculitis have been reported in HIV-infected individuals.',\n",
       " 'To dissect the mechanisms underlying HIV-associated vasculopathy, Tinkle et al developed a model of transgenic mice carrying a replication-defective HIV-1 provirus with selective deletion of the gag, pol, and env genes.',\n",
       " '18',\n",
       " 'The majority of transgenic mice developed an extensive vasculopathy in vessels of different size.',\n",
       " 'Vessel histology revealed intima hyperplasia,  most likely due to the migration of smooth muscle cells from the media, hypocellularity in the medial layer, and a predominantly adventitial infiltrate consisting primarily of T cells and occasionally of plasma cells and monocytes; endothelial cells were apparently unaffected.',\n",
       " 'The intimal thickening generated significant luminal narrowing in some vessels, with the restricted blood flow leading to ischemia in the involved tissues.',\n",
       " 'The expression of HIV nonstructural genes appeared to be confined to smooth muscle cells, in keeping with the abnormal proliferation of this cell type.',\n",
       " 'Of interest, proliferation of smooth muscle cells occurred in some animals in the absence of detectable inflammatory cell infiltration, suggesting that the smooth muscle cell was the primary target of HIV, whereas the adventitial immune-mediated response probably represented a secondary event.',\n",
       " 'These findings are intriguing.',\n",
       " 'However, this model does not reliably reproduce the characteristics of human HIV-associated vasculopathy.',\n",
       " 'In fact, endothelial cells have been demonstrated to be often affected in HIV-infected individuals 19 , whereas the broad spectrum of HIV vasculitis seems to involve a multiplicity of mechanisms, the mutual interactions of which are still to be fully unraveled.',\n",
       " '20',\n",
       " 'In conclusion, animal models of vasculitis can prove valuable in promoting our knowledge of both etiology and pathogenesis of vasculitis, with potential important therapeutic implications.',\n",
       " 'The variation in clinical pattern and/or severity of vasculitis observed in infected animals could provide an excellent opportunity to investigate which factors contribute to determine the disease course.',\n",
       " 'At the same time, caution should be exerted in extrapolating experimental findings to human disease, as no model seems to reliably reproduce the features of human vasculitis, with the possible exception of leukocytoclastic vasculitis.',\n",
       " 'Treponema pallidum is a known cause of ascending aortitis.',\n",
       " 'Aortitis secondary to syphilis infection has a low prevalence and occurs in the tertiary stage of the disease.',\n",
       " '21, 22 Serology for T. pallidum is positive and the histology of the aorta shows destruction and fibrosis of the media and a dense inflammatory infiltrate consisting of lymphocytes and plasma cells around the vasa vasorum of the adventitia.',\n",
       " '22, 23',\n",
       " 'However, T. pallidum is only rarely detected in arterial wall lesions.',\n",
       " '23',\n",
       " 'Syphilitic  aortitis should not be confused with aortitis secondary to GCA or Takayasu arteritis.',\n",
       " '24 Other complications of syphilis are retinal 25 and cerebral 26 vasculitis.',\n",
       " 'Tuberculous aortoarteritis is usually caused by a direct extension of the disease from adjacent tuberculous tissue and occasionally from blood-borne seedlings from an active distant focus.',\n",
       " '27 Tuberculous aortitis generally develops at the distal aortic arch and the descending aorta, which are close to mediastinal lymph nodes, but involvement of the ascending aorta has also been reported as an exception to the rule.',\n",
       " '28',\n",
       " 'True and false aneurysms are common manifestations.',\n",
       " 'Drug and sometimes surgical 29 treatment is required.',\n",
       " 'Retinal vasculitis  30 has been also linked in one study to Mycobacterium tuberculosis infection.',\n",
       " 'Rickettsiae, which are obligate intracellular bacteria, can cause widespread vasculopathy by directly affecting the endothelium, leading to microvascular leakage and thrombosis.',\n",
       " '2 Laboratory tests usually reveal thrombocytopenia and elevated prothrombin and partial thromboplastin times.',\n",
       " '21',\n",
       " 'Hepatitis-B-associated polyarteritis nodosa Hepatitis B virus (HBV) is a recognized causative agent of polyarteritis nodosa (PAN), most likely via the formation of immune complexes.',\n",
       " '23',\n",
       " 'However, with the decline of HBV infection, mainly due to the development of a specific vaccine and an aggressive vaccination campaign, the prevalence of HBV infection in individuals with PAN has been steadily decreasing over time.',\n",
       " '23',\n",
       " 'In fact, recent estimates from France suggest that, currently, only about 5% of cases of PAN are HBV related.',\n",
       " '31 HBV-PAN usually becomes manifest a mean of 4 months following exposure to HBV when hepatitis  is still undiagnosed.',\n",
       " '23',\n",
       " 'Clinically, HBV-PAN is virtually indistinguishable from classic PAN 32 , but relapses are very rare (<10%).',\n",
       " '23 Combination therapy with a brief course (approximately 1 week) of glucocorticoids associated with antiviral agents (lamivudine 100 mg/day or IFN-a 3,000,000 units subcutaneously three times a week with a tapering scheme) has been advocated on the basis of retrospective data showing a poorer outcome following therapy with glucocorticoids and immunosuppressants in HBV-PAN compared with idiopathic PAN. 23 Plasma exchange has also been reported as being useful in severe cases.',\n",
       " '23 Hepatitis C-associated cryoglobulinemic vasculitis Hepatitis C virus (HCV) infection has been shown to induce type II and, less frequently, type III cryoglobulins.',\n",
       " '33',\n",
       " 'However, cryoglobulinemic vasculitis, usually of the small-vessel leukocytoclastic type, develops only in about 5% of patients with detectable cryoglobulins.',\n",
       " '34 Common clinical manifestations include purpura, glomerulonephritis, peripheral neuropathy, arthritis, and sicca syndrome.',\n",
       " '34 Laboratory tests usually reveal a low C4 and -sometimes -a positive rheumatoid factor, but various low-titer autoantibodies have also been reported.',\n",
       " '35 Treatment of HCV vasculitis should be tailored to the severity of the disease.',\n",
       " '36',\n",
       " 'In patients with mild disease (without severe organ involvement or life-threatening disease)',\n",
       " 'antiviral therapy (',\n",
       " 'IFNa 3,000,000 units/three times a week with or without low-dose glucocorticoids for 6 months, followed by maintenance therapy with IFN-a 3,000,000 units/3-weekly with or without ribavirin for a further 6-12 months) can suffice.',\n",
       " '36',\n",
       " 'However, relapses are frequent, particularly when HCV is not eradicated.',\n",
       " 'In patients with major organ involvement, a 6-month course of induction therapy with pulse cyclophosphamide and glucocorticoids is required, followed by maintenance antiviral therapy for 6-12 months.',\n",
       " '36 Patients with life-threatening disease should be treated aggressively with oral cyclophosphamide, glucocorticoid pulses and plasmapheresis for 6 months, while after remission induction antiviral therapy can be commenced.',\n",
       " '36',\n",
       " 'In patients with refractory vasculitis and glomerulonephritis, rituximab could be a valuable therapeutic option.',\n",
       " '37',\n",
       " 'With the advent of the AIDS epidemic, various types of vasculopathies have increasingly been described in HIV-infected patients.',\n",
       " 'Opportunistic infections, mainly due to CMV or M. tuberculosis, have been reported, mainly in immunodeficient patients.',\n",
       " '38',\n",
       " 'As the route of transmission of HIV is also shared by HBV and HCV, it is not surprising that such viruses have been implicated as causative agents in some cases, even in immunocompetent hosts.',\n",
       " '20,38 Drug-induced vasculitis is also not infrequent.',\n",
       " '20',\n",
       " 'In many cases, however, HIV seems to directly induce vasculopathies of different types.',\n",
       " 'A retrospective review of 148 symptomatic HIV-infected patients referred for muscle, nerve, or skin biopsy documented the presence of vasculitis in 34 (23%) patients.',\n",
       " '20 Various vasculitic types were recognized, including necrotizing arteritis (3 patients), non-necrotizing arteritis (1 patient), neutrophilic vasculitis (7 patients), mononuclear vasculitis (17 patients), and other small-vessel inflammatory changes (6 patients).',\n",
       " 'According to the American College of Rheumatology criteria, 11 patients could be classified as having a distinct category of vasculitis, including PAN (4 patients), Henoch-Schö nlein purpura (1 patient), and drug-induced hypersensitivity vasculitis (6 patients), whereas 23 were classified as having unspecified vasculitis.',\n",
       " 'These vasculitides were seen at different stages of HIV infection.',\n",
       " 'One patient had  HBV surface antigenemia, two had cryoglobulinemia, and two were co-infected by human T lymphotropic virus type I (HTLV-1).',\n",
       " 'CMV inclusions and  antigens were detected in endothelial cells in one patient.',\n",
       " 'HIV antigens and genome were detected in perivascular cells of two of the three patients with necrotizing arteritis.',\n",
       " 'Immune deposits were found in small-vessel walls in five skin biopsy samples showing small vessel vasculitis and in the muscle of the three patients with necrotizing arteritis.',\n",
       " 'These data indicate that a wide range of inflammatory vascular diseases  can occur in HIV-infected individuals.',\n",
       " 'The high (23%) frequency of vasculitis in this cohort of HIV patients is probably an overestimation related to a referral bias, as it is likely that only patients with symptoms and/ or signs suggestive of vasculitis underwent a biopsy.',\n",
       " 'A more realistic estimate of the true prevalence of vasculitis in HIV-infected individuals is in the range of 1% or less.',\n",
       " '23, 39 Polyarteritis nodosa has been reported as occurring in the setting of HIV infection in the absence of hepatitis B surface antigen (HbsAg) positivity.',\n",
       " '40',\n",
       " 'The pathogenesis of HIV-PAN is probably mediated by immune complexes, and a study from our group failed to detect, by in-situ hybridization, proviral HIV-1 DNA in a skin sample.',\n",
       " '41',\n",
       " 'Compared with classic PAN, its HIV-associated variant appears to be less often chronic and more frequently limited to the peripheral nerves and muscles, which might account for the less severe course observed in HIV patients.',\n",
       " 'Along the same lines, HIV-PAN  has been reported to respond well to moderate (approximately 0.5 mg/kg/day) doses of prednisone.',\n",
       " '40 More recently, Chetty et al described 16 HIV patients with large-vessel vasculitis characterized by aneurysms, occlusive disease, or both.',\n",
       " '42 Clinical manifestations included rupture of aneurysm, transient ischemic attacks, hypertension, ischemia to the lower extremity, or a mass at the site of the aneurysm.',\n",
       " 'Arteries affected included the common carotid, abdominal aorta, common iliac, femoral, and popliteal.',\n",
       " 'No patient had any obvious infective vascular lesion, although one patient had a positive TPHA (Treponema Pallidum Hemagglutination Test) test for syphilis, whereas culture of blood and thrombus contents in another patient was positive for Staphylococcus aureus.',\n",
       " 'Histology showed leukocytoclastic vasculitis of the vasa vasora and periadventitial vessels, proliferation of slit-like vascular channels, chronic inflammation, and fibrosis.',\n",
       " 'There was associated medial fibrosis with loss and fragmentation of muscle and elastic tissue.',\n",
       " 'Intimal changes consisted of duplication and fragmentation of the internal elastic lamina with calcification.',\n",
       " 'Based on these findings, the authors argued for an infective or immune-complex origin, resulting in leukocytoclastic vasculitis of vasa vasora and periadventitial vessels.',\n",
       " 'An intriguing finding reported in this study is the presence of slitlike vascular channels.',\n",
       " 'Such lesions have not been observed in HIV-negative individuals and their appearance have in fact coincided with the HIV epidemic.',\n",
       " \"Whether these lesions represent an early stage of Kaposi's sarcoma is not known.\",\n",
       " 'Angiogenic factors have been postulated to play a role, although its precise pathogenesis remains unclear.',\n",
       " \"Other vasculopathies reported in HIV-positive patients include vasculitis characterized by acral ischemic changes 43 , angiocentric immunoproliferative disorders 44 , necrotizing granulomatous vasculitis 45 , 'primary' pulmonary hypertension, retinal  vessel alterations with 'cotton wool' infarctions and hemorrhages 19 , and cerebral vasculitis.\",\n",
       " '46',\n",
       " 'However, cerebral vasculitis accounts for only a minority (15%) of cerebral ischemic lesions.',\n",
       " '46',\n",
       " 'Given the wide spectrum of vascular alterations associated with HIV infection, it is very likely that different pathogenic mechanisms might be involved.',\n",
       " 'More specifically, immune complexes have been mapped to leukocytoclastic vasculitis 42 and immune dysregulation to angiocentric immunoproliferative disorders 44 , but a direct effect of HIV on vascular components 19, 40 and immune system activation with production of inflammatory cytokines 45 might also be implicated.',\n",
       " 'However, the introduction of highly active antiretroviral treatment, which has been associated with an increased risk of developing immune-mediated disorders via activation of the immune system, does not appear to have impacted on the frequency of HIV-vasculitis.',\n",
       " '47, 48 Immunological serology is of doubtful value in the differential diagnosis of vasculitis occurring in HIV individuals because HIV infection has been shown to stimulate the synthesis of a whole array of autoantibodies, including antinucler, anticardiolipin 49 , and antineutrophil cytoplasmic antibodies (ANCA).',\n",
       " '50',\n",
       " 'In particular, ANCA positivity has been shown not to correlate with the development of ANCA-associated vasculitis in patients with HIV.',\n",
       " '50',\n",
       " 'A high index of suspicion for vasculitis should be maintained in patients with HIV because many clinical manifestations, such as constitutional symptoms and cutaneous lesions, might be signs of vasculitis but could also be due to HIV or other infection in the absence of vasculitis or to antiviral therapy.',\n",
       " 'There  are limited data on the treatment of HIV-vasculitis.',\n",
       " 'Glucocorticoids are considered the drug of choice 48 but uncontrolled observations suggest a role for immunosuppressants 48 and plasmapheresis 51 in resistant cases.',\n",
       " 'Circumstantial evidence suggests a role for infectious agents in the pathogenesis of GCA, including cyclic fluctuations in incidence rates over time 52 and an activated status of the antigen-presenting dendritic cells in the adventitial layer of temporal arteries.',\n",
       " '53',\n",
       " 'However, studies that have searched for infectious triggers have produced discordant results.',\n",
       " 'In particular, CP finding in giant cell arteries have been reported in some 54,55 , but not other 56, 57 studies.',\n",
       " 'Similarly, varicella zoster virus has been implicated as trigger of GCA in one study 58 but this result has not been confirmed by other larger studies.',\n",
       " '57, 59 Discordant findings have also been reported for parvovirus B19.',\n",
       " '[60] [61] [62]',\n",
       " 'Various infections have been described as preceding the onset  of Takayasu arteritis, although the link between infection and vasculitis has never been conclusively proven.',\n",
       " '4 High immunoglobulin levels against an extract of M. tuberculosis and its 65 kDa heatshock protein has been demonstrated in most Takayasu patients but not in unaffected controls, suggesting that M. tuberculosis might be involved in the pathogenesis of Takayasu arteritis, at least in some cases.',\n",
       " \"63 Medium-and small-vessel vasculitis Nasal carriage of S. aureus has been mapped to an increased risk of flares and relapses of Wegener's granulomatosis 64 ; prolonged trimethoprim-sulfamethoxazole therapy has been reported to reduce the relapse risk by 60%.\",\n",
       " '65 Various infections have been described in association with Kawasaki disease.',\n",
       " '4',\n",
       " 'To date, the strongest association reported is with the New Haven coronavirus.',\n",
       " 'In a case-control study, specimens of respiratory secretions from 72.7% of 11 children with Kawasaki disease but from only 4.5% of 22 control subjects (children without Kawasaki disease matched by age and the time the specimens were obtained) tested positive for New Haven coronavirus by reverse-transcriptase polymerase chain reaction.',\n",
       " '66',\n",
       " \"A number of pathogens have been proposed as etiologic agents of Cogan's syndrome, mainly on the basis of serologic findings, but so far these associations remain speculative.\",\n",
       " '4',\n",
       " 'A wide array of infectious agents has been reported in association with vasculitis of the CNS, including T. pallidum 26 , HCV 67 , HIV 46 , parvovirus B19 68 , M. pneumoniae 69 , and Borrelia burgdorferi.',\n",
       " '70 Bacteria  and fungi have also been implicated in some cases.',\n",
       " '71',\n",
       " 'A bacterial and viral etiology was postulated for ABD by Adamantiades and Behçet.',\n",
       " '72 ABD signs have been reported between one and two weeks after verified contact with a variety of bacteria.',\n",
       " '73',\n",
       " 'In particular, streptococcal strains, especially Streptococcus sanguis, and HSV have been postulated to participate in the etiology of ABD.',\n",
       " 'More specifically, oral bacterial streptococcal antigens and HSV I DNA, as well as antistreptococcal and anti-HSV antibodies, have been detected more frequently in ABD patients than in controls.',\n",
       " '72, 74 Cross-reactivity between microbial HSP65 and human HSP60 has been hypothesized to trigger the disease in predisposed hosts by stimulating T cells and by inducing the synthesis of proinflammatory cytokines.',\n",
       " '75',\n",
       " 'Conversely, oral administration of the HSP60 336-351  peptide has been shown to ameliorate ABD uveitis in humans.',\n",
       " '76 Multiple infectious and noninfectious agents have been linked to leukocytoclastic vasculitis and Henoch-Schö nlein purpura, two conditions that share a number of features, including skin purpura and sometimes the history  of a preceding infection.',\n",
       " '4, 77',\n",
       " 'In both cases, immune complexes are probably the pathogenic mechanism leading to vasculitic lesions.',\n",
       " 'An infectious origin of leukocytoclastic vasculitis has been estimated to account for one-third of all cases of leukocytoclastic vasculitis.',\n",
       " '77Many infectious agents have occasionally been linked to different types of vasculitisoften unclassifiable -in humans.',\n",
       " '78',\n",
       " 'These reported associations are often speculative and some might be explained by chance alone.',\n",
       " 'Epstein-Barr virus (EBV) and CMV are among the most frequently reported infective triggers of vasculitis.',\n",
       " 'More specifically, EBV has been implicated in the pathogenesis of leukocytoclastic 79 and granulomatous 80 vasculitis, as well as of vasculitis characterized by widespread large-vessel 81 and coronary artery 82 aneurysms.',\n",
       " 'In a few patients with Duncan disease, a condition characterized by a selective EBV-specific immune defect, EBV has been mapped to lymphocytic vasculitis, corioretinitis, and lymphomatoid granulomatosis.',\n",
       " '83 CMV is a known opportunistic agent that can be reactivated in immunocompromised hosts, resulting in systemic  vasculitis.',\n",
       " '38, 84',\n",
       " 'However, isolated reports suggest that CMV vasculitis might also occur in immunocompetent subjects.',\n",
       " '85 CMV vasculitis can be disseminated or involve one or more organs, with the skin, the gastrointestinal tract, and CNS being most frequently affected.',\n",
       " '12 Pathologic findings include intraendothelial viral inclusions, inflammatory infiltrate of the vessel wall, and luminal changes.',\n",
       " '12',\n",
       " 'Another virus, HTLV-1, has been found to cause mainly retinal vasculitis 86 in addition to the well-known complication of T-cell leukemia.',\n",
       " 'A list of pathogens implicated in classified and unclassified human vasculitis is shown in Box 1.Data from human studies and animal models',\n",
       " 'consistently indicate that a number of infectious agents can trigger vasculitis in susceptible hosts.',\n",
       " 'Different agents can induce the same type of vasculitis, as the case of leukocytoclastic vasculitis exemplifies.',\n",
       " 'Conversely, the same agent can give rise to a variety of host responses ranging from a clinically silent infection or localized organ involvement to devastating, widespread vasculitis.',\n",
       " 'Some exposed subjects do not develop clinically detectable vasculitis or other organ involvement at all, probably either because they can mount (and then switch off) an efficient immune response,  or because of congenital resistance to a given pathogen.',\n",
       " 'For instance, individuals lacking the chemokine receptor-5, a port of entry required  by most HIV strains, are resistant to HIV infection even after repeated exposure to the virus.',\n",
       " '87',\n",
       " 'Many infectious agents display varying degrees of tropism for different organs and vascular beds.',\n",
       " \"Such tropism might be due to the expression by the offending agent of surface molecules  that bind to specific host's ligands in different tissues and vascular segments.\",\n",
       " '88',\n",
       " 'However, persistence of a micro-organism at certain sites  might also result from the inability of the immune system to clear the pathogen at these sites.',\n",
       " 'Variability in disease severity is a recognized feature of experimental as well as of human vasculitis.',\n",
       " 'What modulates disease severity is still poorly understood, but antigen load 11 (and  probably other antigen properties) 89 and the efficiency of the immune response might both play a role.',\n",
       " 'IFN-g has been shown to be a key mediator of antigen-driven immune response in some experimental models 13,14 , but other mediators 15 are also implicated.',\n",
       " 'Another related issue is why vasculitis runs a self-limiting course in some cases but becomes chronic in others.',\n",
       " \"Theoretically, persistent vasculitis could be due to  the host's inability to eradicate the infection or to switch off the immune response triggered by the infective agent after this has been cleared.\",\n",
       " 'Reports of resolution of virus-related vasculitis after virus eradication has been achieved would appear to support the first hypothesis.',\n",
       " '36',\n",
       " \"However, limited data mainly from animal and in-vitro studies suggest that micro-organisms might also induce vasculitis via a 'hit and run' mechanism.\",\n",
       " '90',\n",
       " 'Furthermore, after a viral infection the immune response has been shown to interact with 91 , and prevent the infectious agent from becoming reactivated 92 without fully eradicating it or provoking vasculitis or other organ damage.',\n",
       " 'IFN-g appears to be crucially involved in blocking viral reactivation.',\n",
       " '92',\n",
       " 'The role of infectious agents in the pathogenesis of the primary vasculitides is still under debate.',\n",
       " 'For instance, numerous agents have been implicated in the pathogenesis of GCA, but findings of specific infection have not been consistently replicated.',\n",
       " \"Differences in detection methods, 'hit and run' disease induction followed by clearance of the offending agent, and different etiologic agents leading to the development of the same vasculitis in different individuals might explain, at least partially, the discrepancies reported in the literature.\",\n",
       " 'What are the therapeutic implications of the recognition of an infective etiology of vasculitis?',\n",
       " 'Theoretically, treatment aiming at eradicating the causing pathogen would be the logical choice.',\n",
       " 'However, severe vasculitis might additionally require immunosuppressive therapy to attain rapid disease control.',\n",
       " \"Finally, it is important to remember that other factors, such as the patient's age and genetic make-up, and the anatomical characteristics of the vessels involved might all contribute to regulate disease expression.\",\n",
       " '93']"
      ]
     },
     "execution_count": 117,
     "metadata": {},
     "output_type": "execute_result"
    }
   ],
   "source": [
    "doc_sents = [sent.text for sent in doc.sents][:-2]\n",
    "doc_sents"
   ]
  },
  {
   "cell_type": "code",
   "execution_count": 118,
   "id": "a90eb481",
   "metadata": {},
   "outputs": [
    {
     "data": {
      "text/plain": [
       "268"
      ]
     },
     "execution_count": 118,
     "metadata": {},
     "output_type": "execute_result"
    }
   ],
   "source": [
    "len(doc_sents)"
   ]
  },
  {
   "cell_type": "code",
   "execution_count": 119,
   "id": "d74b74c9",
   "metadata": {},
   "outputs": [
    {
     "data": {
      "text/plain": [
       "<AxesSubplot:>"
      ]
     },
     "execution_count": 119,
     "metadata": {},
     "output_type": "execute_result"
    },
    {
     "data": {
      "image/png": "[encoded data removed]",
      "text/plain": [
       "<Figure size 432x288 with 1 Axes>"
      ]
     },
     "metadata": {
      "needs_background": "light"
     },
     "output_type": "display_data"
    }
   ],
   "source": [
    "import pandas as pd\n",
    "import matplotlib.pyplot as plt\n",
    "doc_sent_len = [len(sent.split()) for sent in doc_sents]\n",
    "pd.Series(doc_sent_len).hist()"
   ]
  },
  {
   "cell_type": "code",
   "execution_count": 128,
   "id": "a8979930",
   "metadata": {},
   "outputs": [],
   "source": [
    "chunk_len = 10\n",
    "stride = 5"
   ]
  },
  {
   "cell_type": "code",
   "execution_count": 129,
   "id": "855d409e",
   "metadata": {},
   "outputs": [],
   "source": [
    "doc_chunks = []\n",
    "chunk_start = 0\n",
    "while(chunk_start < len(doc_sents)):\n",
    "    # print(chunk_start, chunk_start+chunk_len)\n",
    "    chunk_text = ' '.join(doc_sents[chunk_start:chunk_start+chunk_len])\n",
    "    doc_chunks.append(chunk_text)\n",
    "    chunk_start += stride"
   ]
  },
  {
   "cell_type": "code",
   "execution_count": 130,
   "id": "529d73fe",
   "metadata": {},
   "outputs": [
    {
     "data": {
      "text/plain": [
       "54"
      ]
     },
     "execution_count": 130,
     "metadata": {},
     "output_type": "execute_result"
    }
   ],
   "source": [
    "len(doc_chunks)"
   ]
  },
  {
   "cell_type": "code",
   "execution_count": 133,
   "id": "3f7089ae",
   "metadata": {},
   "outputs": [],
   "source": [
    "model_name = 'amberoad/bert-multilingual-passage-reranking-msmarco'"
   ]
  },
  {
   "cell_type": "code",
   "execution_count": 136,
   "id": "34dec174",
   "metadata": {},
   "outputs": [],
   "source": [
    "model = AutoModelForSequenceClassification.from_pretrained(model_name)\n",
    "tokenizer = AutoTokenizer.from_pretrained(model_name)"
   ]
  },
  {
   "cell_type": "code",
   "execution_count": 201,
   "id": "e45f97b9",
   "metadata": {},
   "outputs": [],
   "source": [
    "query_text = 'What is the main cause of HIV-1 infection in children?'"
   ]
  },
  {
   "cell_type": "code",
   "execution_count": 206,
   "id": "0bbf37f2",
   "metadata": {},
   "outputs": [],
   "source": [
    "query_text = 'what is a laptop?'\n",
    "doc_chunks = [\n",
    "    'san diego is a beautiful city. It has beaches that blah blah.',        \n",
    "    'laptop is portable computer. It is used for multipurpose computing operations.', \n",
    "              'mobile is designed for calls. but used for everything else.',\n",
    "             ]"
   ]
  },
  {
   "cell_type": "code",
   "execution_count": 207,
   "id": "3b82e5dd",
   "metadata": {},
   "outputs": [
    {
     "name": "stdout",
     "output_type": "stream",
     "text": [
      "tensor([[9.9999e-01, 1.3953e-05],\n",
      "        [8.3720e-04, 9.9916e-01],\n",
      "        [9.9998e-01, 1.5751e-05]])\n",
      "tensor([1.3953e-05, 9.9916e-01, 1.5751e-05])\n"
     ]
    }
   ],
   "source": [
    "# Bert Inference\n",
    "encodings = tokenizer([query_text] * len(doc_chunks), doc_chunks, padding = True, \n",
    "                      max_length=512, return_tensors= 'pt')\n",
    "\n",
    "\n",
    "model.eval()\n",
    "with torch.no_grad():\n",
    "    logits = model(**encodings)\n",
    "\n",
    "pt_predictions = torch.nn.functional.softmax(logits[0], dim=1)\n",
    "scores = pt_predictions[:,1]\n",
    "print(pt_predictions)\n",
    "print(scores)"
   ]
  },
  {
   "cell_type": "code",
   "execution_count": 208,
   "id": "2b88f78e",
   "metadata": {},
   "outputs": [
    {
     "name": "stdout",
     "output_type": "stream",
     "text": [
      "tensor(0.9992) tensor(1)\n"
     ]
    }
   ],
   "source": [
    "max_score, max_idx = torch.max(scores, dim=0)\n",
    "print(max_score, max_idx)"
   ]
  },
  {
   "cell_type": "code",
   "execution_count": 209,
   "id": "e051d911",
   "metadata": {},
   "outputs": [
    {
     "data": {
      "text/plain": [
       "'laptop is portable computer. It is used for multipurpose computing operations.'"
      ]
     },
     "execution_count": 209,
     "metadata": {},
     "output_type": "execute_result"
    }
   ],
   "source": [
    "doc_chunks[max_idx]"
   ]
  },
  {
   "cell_type": "code",
   "execution_count": null,
   "id": "fdb265c3",
   "metadata": {},
   "outputs": [],
   "source": [
    "## Checking dimensions for logits"
   ]
  },
  {
   "cell_type": "code",
   "execution_count": 213,
   "id": "dc229470",
   "metadata": {},
   "outputs": [
    {
     "data": {
      "text/plain": [
       "tensor([[ 5.9716, -5.2081],\n",
       "        [-3.6283,  3.4563],\n",
       "        [ 5.9739, -5.0847]])"
      ]
     },
     "execution_count": 213,
     "metadata": {},
     "output_type": "execute_result"
    }
   ],
   "source": [
    "logits[0]"
   ]
  },
  {
   "cell_type": "code",
   "execution_count": 212,
   "id": "3f718e3f",
   "metadata": {},
   "outputs": [
    {
     "data": {
      "text/plain": [
       "tensor([[9.9999e-01, 1.3953e-05],\n",
       "        [8.3720e-04, 9.9916e-01],\n",
       "        [9.9998e-01, 1.5751e-05]])"
      ]
     },
     "execution_count": 212,
     "metadata": {},
     "output_type": "execute_result"
    }
   ],
   "source": [
    "torch.nn.functional.softmax(logits[0], dim=1)"
   ]
  },
  {
   "cell_type": "code",
   "execution_count": 211,
   "id": "06584d79",
   "metadata": {},
   "outputs": [
    {
     "data": {
      "text/plain": [
       "tensor([1.7255e-04, 9.9963e-01, 1.9521e-04])"
      ]
     },
     "execution_count": 211,
     "metadata": {},
     "output_type": "execute_result"
    }
   ],
   "source": [
    "torch.nn.functional.softmax(logits[0], dim=0)[:,1]"
   ]
  },
  {
   "cell_type": "code",
   "execution_count": 192,
   "id": "56ab0359",
   "metadata": {},
   "outputs": [
    {
     "data": {
      "text/plain": [
       "tensor([[8.3720e-04, 9.9916e-01],\n",
       "        [9.9998e-01, 1.5751e-05],\n",
       "        [9.9999e-01, 1.3953e-05]])"
      ]
     },
     "execution_count": 192,
     "metadata": {},
     "output_type": "execute_result"
    }
   ],
   "source": [
    "torch.nn.functional.softmax(logits[0], dim=1)"
   ]
  },
  {
   "cell_type": "code",
   "execution_count": null,
   "id": "ec874723",
   "metadata": {},
   "outputs": [],
   "source": []
  }
 ],
 "metadata": {
  "kernelspec": {
   "display_name": "Python 3",
   "language": "python",
   "name": "python3"
  },
  "language_info": {
   "codemirror_mode": {
    "name": "ipython",
    "version": 3
   },
   "file_extension": ".py",
   "mimetype": "text/x-python",
   "name": "python",
   "nbconvert_exporter": "python",
   "pygments_lexer": "ipython3",
   "version": "3.6.13"
  }
 },
 "nbformat": 4,
 "nbformat_minor": 5
}
